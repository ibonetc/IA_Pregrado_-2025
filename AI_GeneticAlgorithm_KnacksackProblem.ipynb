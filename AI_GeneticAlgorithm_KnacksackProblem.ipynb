{
  "nbformat": 4,
  "nbformat_minor": 0,
  "metadata": {
    "colab": {
      "provenance": [],
      "authorship_tag": "ABX9TyPoeyPY+ISILPR8lyh/bOjU",
      "include_colab_link": true
    },
    "kernelspec": {
      "name": "python3",
      "display_name": "Python 3"
    },
    "language_info": {
      "name": "python"
    }
  },
  "cells": [
    {
      "cell_type": "markdown",
      "metadata": {
        "id": "view-in-github",
        "colab_type": "text"
      },
      "source": [
        "<a href=\"https://colab.research.google.com/github/ibonetc/IA_Pregrado_-2025/blob/main/AI_GeneticAlgorithm_KnacksackProblem.ipynb\" target=\"_parent\"><img src=\"https://colab.research.google.com/assets/colab-badge.svg\" alt=\"Open In Colab\"/></a>"
      ]
    },
    {
      "cell_type": "markdown",
      "metadata": {
        "id": "vdtUE7wlsG1U"
      },
      "source": [
        "# Problema de la mochila con algoritmos genéticos"
      ]
    },
    {
      "cell_type": "markdown",
      "metadata": {
        "id": "rpXs5PIco1Ex"
      },
      "source": [
        "Supondremos que tenemos N productos para poner en la mochila, cada producto tiene un peso y un precio. La mochila tiene un peso máximo permitido.\n",
        "Para esto tenemos una lista con los N pesos (weights) y otra con los N precios (prices)."
      ]
    },
    {
      "cell_type": "code",
      "metadata": {
        "id": "dXOsFCzkmb2X"
      },
      "source": [
        "import numpy as np\n",
        "import pandas as pd\n",
        "import plotly.express as px"
      ],
      "execution_count": 1,
      "outputs": []
    },
    {
      "cell_type": "markdown",
      "metadata": {
        "id": "9HmK4EHDsYQ7"
      },
      "source": [
        "Generar variables aleatorias con vectores de pesos y precios suponiendo que se tienen 10 Productos."
      ]
    },
    {
      "cell_type": "markdown",
      "metadata": {
        "id": "WleLHtpDplrD"
      },
      "source": [
        "Ejemplo: Se suponen N productos en una mochila con una capacidad W. Por defecto pondremos N=10 y W= 15 kg"
      ]
    },
    {
      "cell_type": "code",
      "metadata": {
        "id": "eYpHUwbns8iK"
      },
      "source": [
        "#@title Introduzca los valores de N (cantidad de productos), W en kg permitidos para la mochila\n",
        "N = 10 #@param {type:\"integer\"}\n",
        "W = 15 #@param {type:\"integer\"}\n",
        "\n"
      ],
      "execution_count": 2,
      "outputs": []
    },
    {
      "cell_type": "code",
      "metadata": {
        "id": "HmkIvDEWxU48"
      },
      "source": [
        "#@title Rango de precios\n",
        "\n",
        "minprice = 1 #@param {type:\"number\"}\n",
        "maxprice = 100 #@param {type:\"number\"}"
      ],
      "execution_count": 3,
      "outputs": []
    },
    {
      "cell_type": "markdown",
      "metadata": {
        "id": "ioE7hODzuiOa"
      },
      "source": [
        "Generar los vectores ***weights*** y ***prices*** aleatorios"
      ]
    },
    {
      "cell_type": "code",
      "metadata": {
        "id": "z3_y14X6u18q"
      },
      "source": [
        "weights = W*np.random.random_sample((N,))\n",
        "prices = (maxprice-minprice)*np.random.random_sample((N,))+minprice"
      ],
      "execution_count": 4,
      "outputs": []
    },
    {
      "cell_type": "markdown",
      "metadata": {
        "id": "uGCWYkcQl05r"
      },
      "source": [
        "## Generar población\n",
        "Inicializar una población de tamaño N, cromosoma aleatorio binario"
      ]
    },
    {
      "cell_type": "code",
      "metadata": {
        "id": "18TImmS0uKNC"
      },
      "source": [
        "#@title Introduzca tamaño de la población, para generar la misma\n",
        "NP =  30#@param {type:\"integer\"}"
      ],
      "execution_count": 5,
      "outputs": []
    },
    {
      "cell_type": "code",
      "metadata": {
        "id": "d2Nm2m_Eh4ib"
      },
      "source": [
        "population = [np.random.randint(0, 2, N) for _ in range(NP)]\n"
      ],
      "execution_count": 6,
      "outputs": []
    },
    {
      "cell_type": "code",
      "metadata": {
        "id": "p00N889FLDf5"
      },
      "source": [
        "def generateFirstPopulation(N, NP):\n",
        "  population =[np.random.randint(0, 2, N) for _ in range(NP)]\n",
        "  return population"
      ],
      "execution_count": 7,
      "outputs": []
    },
    {
      "cell_type": "markdown",
      "metadata": {
        "id": "GmQWgaX8m6-3"
      },
      "source": [
        "Hay que definir una función objtivo para evaluar cada uno de los individuos de la población. En este caso lo vamos a hacer para maximizar.\n",
        "\n",
        "```\n",
        "def fitnessFunct(x):\n",
        "....\n",
        "```\n",
        "\n"
      ]
    },
    {
      "cell_type": "markdown",
      "metadata": {
        "id": "bruIL7v6zaaw"
      },
      "source": [
        "Sea x un individuo o cromosoma, la función en este caso debe cumplir:\n",
        "\n",
        "Maximize  \n",
        "![image.png](data:image/png;base64,iVBORw0KGgoAAAANSUhEUgAAAFAAAAAmCAYAAABTahxxAAACwUlEQVRoBe2WDY3CQBBGawENWMADEtCABRzgAAcoQAEGMIADPOzlNfnIdNilV4YQQmcSrtuy8/f67XBdSQsR6ELe6VwSYFAECTABBgkE3VOBCTBIIOieCkyAQQJB91RgAgwSCLqHFLhcLkvXdeVyufRl7Pf7/p7rXCwE8Hg8ls1mU7bb7Z3XarW6r+ewGAA8HA69glBV62PVBTjUt1gsyu12K+fzuex2uzlwu/c4AAgEjiUf1tYEygJEfdh6vS6oke9Op5N1+/n1ACDdoiLUJziWAOoSQIBKbTrKgPTgrf8vrh8A0iRggPhMTYAEHAY0jvHc5h+9VwHqKGu29ZTMn+v12gPmqMuYh1Kknk29akzoRXBPDvsjNRaTE6RTUttLb5wUeqMPRMCaPNxPtSpAgugok+xTxgugQdRPfsBx/x9jP/4CyA9iDSR7AMVLYg1ACaa2fyx3EyCOJKAZlPBJozkUMTWvoKMoan8Gn76ALEMobweIAqYcHxUTvdJ87UdMP1at+AABxBgMQAPZGi9MQFGo/97uteumAilWs8g62PVYQ3YvawqnOa4tQ3XsoaEpRkzAc0VJ1CYgPo5A6zk+KPJtM1DD2wckEc3VjKIpwn90LGiID2CIUzPyoTyuxGEfUDDFHzvW+ChnLQfPyCFxEE/zkO/wJ3cLvo/5oEAN1Nq/MASd2pBP2FIgo4JGNLdokmNk6/jvsfI5/T1x9EK0tnuocexFaf8DQAqvvUGBtd+90lALoApqXWmI2qJGHBT2zKaMj0EkFOaPoL8XQN+Q3mhrvwp+FSC1kYMxEDHiUEPL6Es1+hFW8xkArG1oPXulIanYHstWfP+cfCg+CpBRQZzWHJZCNap8Hf4+BHBKQ16hz1Tgi/zm+5cBfnNTn6wtAQZpJ8AEGCQQdE8FJsAggaB7KjABBgkE3VOBCTBIIOj+BztGd9RZ3XXyAAAAAElFTkSuQmCC)\n",
        "\n",
        "Con la restricción de que\n",
        "\n",
        "![image.png](data:image/png;base64,iVBORw0KGgoAAAANSUhEUgAAAHIAAAAgCAYAAADOmyyBAAADg0lEQVRoBe2YgZHiMAxF0wI10AI9UAI10AId0AEdUAEV0AAN0AE9+Obl5me0PsWxszkYB2uGSeLYsvSf5OxsF5qtQoFuFVm0JEIDuZIiaCAbyJUosJI0Wkd+I8jr9Rq6rguHw2FIn2d+zT6rQDGB4/EYNptNeD6ffeTn8zncbrfPZtF2D93lcuk7Sp3lXYGFAe90OgVgamy/34fX69Wk/LACHRC2223/i4E8Ho+++wSNo5Xuu9/v/Xxi3+12H06hnu3RjdOMZqEZZPpk6Rnd1VC5+vZHKxuw0H775JQOFEjeCzbw6WbeN/urAADQA23GDA15Lx2ZxzP6W8MP0PGZY8NqFuJs7HvHxrY6gJuan7P5GuZYeOhDcevvBy8/dONzJKOJeI5BMkan5toAElBUBlVgq0WOOArYTM4JlmdvrtbkXOVXBaSCSokR+0UcBBkz4rRC6ejSfAmZ8qG5XC08OgxNcnWIQQqYjU9w7Z5T9wNIJuIAhzh/h+l7CzwJokLJ2Z/qZz7i4Iui8GDoDzr51LOKhTWp41DruFqNtN6+n7q3IPGlmC1IOjv3SNV+P0AyqI4odSSHc65A4CQgqVIDJIUHCAB5JvHVNczlxziGj5ICWqojiZtiUHyKBQal9g9IxJwjaOnGdj4CU5Fe8RDLGCDWkTQVTEfreLa+uZd/BAMYaxCRZ96x1hqQvVjsHN1bqCXfSPaWzgJJLOzNtdR+gCRJgklZSZL4wSdrUoawzCnpCvwBmDX6RuIHUTyjUABNfggFSNazJhea59eOWah23N4TL3urG3knkOQxVrTWh3c/gCQIxIzPfTZhU88YR6D4JzEJjMB5P2aaoy4hDgHFP0fulAlkah65AVFdSzfwzFprxBp3qH3/23u0iT8jAjnVRKm9e4XV0krSLlDVMjY3SQ8kBcO4oClBWzSMLSUqfnWUkQsAPeEYT3WFRCf21M9qaO+13jaMxrjOtR4kYsWViUMB1rupJMeC8ECOzbXjCJoS1c5d6h4tljpql4opx0/R/1rjJKeOVgUwFyT7cUp4J4V8L33l2NNfkkv7/p/+xj9ezq5zkqS6ATnnLzFA8m17Z4eQIwU6J15HsrcNFYMsSTLuWB3Rb8vuizYqAvlFulSXagNZHTI/4AbS16W60QayOmR+wA2kr0t1ow1kdcj8gBtIX5fqRhvI6pD5ATeQvi7Vjf4BuCka7yHLADUAAAAASUVORK5CYII=)\n"
      ]
    },
    {
      "cell_type": "code",
      "metadata": {
        "id": "UegpUHo4mmKC"
      },
      "source": [
        "def fitnessFunct(x):\n",
        "  return sum(x*prices)\n"
      ],
      "execution_count": 8,
      "outputs": []
    },
    {
      "cell_type": "code",
      "metadata": {
        "id": "Ryp06HFX1xMR"
      },
      "source": [
        "def valid(x):\n",
        "  return 0<sum(x*weights)<=W"
      ],
      "execution_count": 9,
      "outputs": []
    },
    {
      "cell_type": "code",
      "metadata": {
        "colab": {
          "base_uri": "https://localhost:8080/"
        },
        "id": "wuQvtmDL2InL",
        "outputId": "e6434092-6933-4daf-d028-c168a1ca1daf"
      },
      "source": [
        "fitnessFunct(population[0])"
      ],
      "execution_count": 10,
      "outputs": [
        {
          "output_type": "execute_result",
          "data": {
            "text/plain": [
              "np.float64(285.35521106374813)"
            ]
          },
          "metadata": {},
          "execution_count": 10
        }
      ]
    },
    {
      "cell_type": "code",
      "metadata": {
        "id": "Y1ZTJDSm2PxB"
      },
      "source": [
        "V=[i for i,p in enumerate(population) if valid(p)]"
      ],
      "execution_count": 11,
      "outputs": []
    },
    {
      "cell_type": "code",
      "metadata": {
        "colab": {
          "base_uri": "https://localhost:8080/"
        },
        "id": "QgNL-J_a3NEE",
        "outputId": "7e4dd994-077c-4ae9-d8ad-90fe67486e5d"
      },
      "source": [
        "V"
      ],
      "execution_count": 12,
      "outputs": [
        {
          "output_type": "execute_result",
          "data": {
            "text/plain": [
              "[27]"
            ]
          },
          "metadata": {},
          "execution_count": 12
        }
      ]
    },
    {
      "cell_type": "markdown",
      "metadata": {
        "id": "NKd5QIAL4S0S"
      },
      "source": [
        "Se puede hacer la generación de la población ya con individuos válidos o se puede poner un valor muy pequeño en la función objetiov si no es válido"
      ]
    },
    {
      "cell_type": "code",
      "metadata": {
        "id": "C_JibItC4cQp"
      },
      "source": [
        "def fitnessFunct(x):\n",
        "  return 0.1 if not valid(x) else sum(x*prices)"
      ],
      "execution_count": 13,
      "outputs": []
    },
    {
      "cell_type": "code",
      "metadata": {
        "colab": {
          "base_uri": "https://localhost:8080/"
        },
        "id": "hYXS5STi4oHR",
        "outputId": "963817bd-52cd-4c9f-c98c-5dd3098584b1"
      },
      "source": [
        "fitnessFunct(population[22])"
      ],
      "execution_count": 14,
      "outputs": [
        {
          "output_type": "execute_result",
          "data": {
            "text/plain": [
              "0.1"
            ]
          },
          "metadata": {},
          "execution_count": 14
        }
      ]
    },
    {
      "cell_type": "markdown",
      "metadata": {
        "id": "c_AHaw-DUlxZ"
      },
      "source": [
        "Si queremos generar la población desde un inicio que tenga hijos válidos:"
      ]
    },
    {
      "cell_type": "code",
      "metadata": {
        "id": "9m8v2cHwUqGj"
      },
      "source": [
        "def generateFirstPopulation(N, NP):\n",
        "  population=[]\n",
        "  count=0;\n",
        "  while True:\n",
        "    ind =np.random.randint(0, 2, N)\n",
        "    if (valid(ind)):\n",
        "      population.append(ind)\n",
        "      count=count+1\n",
        "    if count==NP:\n",
        "      return population"
      ],
      "execution_count": 15,
      "outputs": []
    },
    {
      "cell_type": "markdown",
      "metadata": {
        "id": "Ma4XbIJyrZAA"
      },
      "source": [
        "## Selección, mutación y cruce"
      ]
    },
    {
      "cell_type": "markdown",
      "metadata": {
        "id": "4mfIPpLl5fw6"
      },
      "source": [
        "El algoritmo para el algoritmo genético lleva tener un método de selección, uno de mutación y uno de cruce.\n",
        "\n",
        "Vamos a hacer para selección: Método de la ruleta\n",
        "\n",
        "para mutación: mutación en un punto\n",
        "\n",
        "para cruce: Cruce de un punto"
      ]
    },
    {
      "cell_type": "markdown",
      "metadata": {
        "id": "ssT9Xzp-rTzZ"
      },
      "source": [
        "### Selección: Método de la ruleta"
      ]
    },
    {
      "cell_type": "markdown",
      "metadata": {
        "id": "EczYnJDj1b0J"
      },
      "source": [
        "Ejemplo con 5 individuos"
      ]
    },
    {
      "cell_type": "code",
      "metadata": {
        "colab": {
          "base_uri": "https://localhost:8080/"
        },
        "id": "fcDbMY5C5z7N",
        "outputId": "713ff9ea-0259-4e6a-ded4-f9540e1fb140"
      },
      "source": [
        "population=generateFirstPopulation(N,NP)\n",
        "## Ordenar la población según la función objetivo\n",
        "sorted_population=sorted(population,key=fitnessFunct,reverse=True)\n",
        "#Para visualizar voy a tomar sólo los 10 primeros\n",
        "sp=sorted_population[0:5]\n",
        "of=[fitnessFunct(s) for s in sp]\n",
        "probability=of/sum(of)\n",
        "accumulatedProb=np.cumsum(probability)\n",
        "accumulatedProb"
      ],
      "execution_count": 16,
      "outputs": [
        {
          "output_type": "execute_result",
          "data": {
            "text/plain": [
              "array([0.22128179, 0.42919176, 0.63710174, 0.81855087, 1.        ])"
            ]
          },
          "metadata": {},
          "execution_count": 16
        }
      ]
    },
    {
      "cell_type": "code",
      "metadata": {
        "id": "5XxDwgShxLax"
      },
      "source": [
        "df = pd.DataFrame(list(zip(sp, of,probability,accumulatedProb)),\n",
        "               columns =['individual', 'fitnessFunct','probability','accumulated probability'])"
      ],
      "execution_count": 17,
      "outputs": []
    },
    {
      "cell_type": "code",
      "metadata": {
        "colab": {
          "base_uri": "https://localhost:8080/",
          "height": 206
        },
        "id": "WZ2Ntnt_x8K3",
        "outputId": "127fdd09-745c-4e34-a177-fff70630f51a"
      },
      "source": [
        "df"
      ],
      "execution_count": 18,
      "outputs": [
        {
          "output_type": "execute_result",
          "data": {
            "text/plain": [
              "                       individual  fitnessFunct  probability  \\\n",
              "0  [1, 0, 0, 1, 1, 0, 0, 0, 1, 0]    294.790579     0.221282   \n",
              "1  [0, 1, 0, 0, 1, 1, 0, 0, 1, 0]    276.976710     0.207910   \n",
              "2  [0, 1, 0, 0, 1, 1, 0, 0, 1, 0]    276.976710     0.207910   \n",
              "3  [1, 0, 0, 1, 0, 0, 0, 0, 1, 0]    241.725699     0.181449   \n",
              "4  [1, 0, 0, 1, 0, 0, 0, 0, 1, 0]    241.725699     0.181449   \n",
              "\n",
              "   accumulated probability  \n",
              "0                 0.221282  \n",
              "1                 0.429192  \n",
              "2                 0.637102  \n",
              "3                 0.818551  \n",
              "4                 1.000000  "
            ],
            "text/html": [
              "\n",
              "  <div id=\"df-7402a062-a9c4-46ba-a32a-f0cdf4580645\" class=\"colab-df-container\">\n",
              "    <div>\n",
              "<style scoped>\n",
              "    .dataframe tbody tr th:only-of-type {\n",
              "        vertical-align: middle;\n",
              "    }\n",
              "\n",
              "    .dataframe tbody tr th {\n",
              "        vertical-align: top;\n",
              "    }\n",
              "\n",
              "    .dataframe thead th {\n",
              "        text-align: right;\n",
              "    }\n",
              "</style>\n",
              "<table border=\"1\" class=\"dataframe\">\n",
              "  <thead>\n",
              "    <tr style=\"text-align: right;\">\n",
              "      <th></th>\n",
              "      <th>individual</th>\n",
              "      <th>fitnessFunct</th>\n",
              "      <th>probability</th>\n",
              "      <th>accumulated probability</th>\n",
              "    </tr>\n",
              "  </thead>\n",
              "  <tbody>\n",
              "    <tr>\n",
              "      <th>0</th>\n",
              "      <td>[1, 0, 0, 1, 1, 0, 0, 0, 1, 0]</td>\n",
              "      <td>294.790579</td>\n",
              "      <td>0.221282</td>\n",
              "      <td>0.221282</td>\n",
              "    </tr>\n",
              "    <tr>\n",
              "      <th>1</th>\n",
              "      <td>[0, 1, 0, 0, 1, 1, 0, 0, 1, 0]</td>\n",
              "      <td>276.976710</td>\n",
              "      <td>0.207910</td>\n",
              "      <td>0.429192</td>\n",
              "    </tr>\n",
              "    <tr>\n",
              "      <th>2</th>\n",
              "      <td>[0, 1, 0, 0, 1, 1, 0, 0, 1, 0]</td>\n",
              "      <td>276.976710</td>\n",
              "      <td>0.207910</td>\n",
              "      <td>0.637102</td>\n",
              "    </tr>\n",
              "    <tr>\n",
              "      <th>3</th>\n",
              "      <td>[1, 0, 0, 1, 0, 0, 0, 0, 1, 0]</td>\n",
              "      <td>241.725699</td>\n",
              "      <td>0.181449</td>\n",
              "      <td>0.818551</td>\n",
              "    </tr>\n",
              "    <tr>\n",
              "      <th>4</th>\n",
              "      <td>[1, 0, 0, 1, 0, 0, 0, 0, 1, 0]</td>\n",
              "      <td>241.725699</td>\n",
              "      <td>0.181449</td>\n",
              "      <td>1.000000</td>\n",
              "    </tr>\n",
              "  </tbody>\n",
              "</table>\n",
              "</div>\n",
              "    <div class=\"colab-df-buttons\">\n",
              "\n",
              "  <div class=\"colab-df-container\">\n",
              "    <button class=\"colab-df-convert\" onclick=\"convertToInteractive('df-7402a062-a9c4-46ba-a32a-f0cdf4580645')\"\n",
              "            title=\"Convert this dataframe to an interactive table.\"\n",
              "            style=\"display:none;\">\n",
              "\n",
              "  <svg xmlns=\"http://www.w3.org/2000/svg\" height=\"24px\" viewBox=\"0 -960 960 960\">\n",
              "    <path d=\"M120-120v-720h720v720H120Zm60-500h600v-160H180v160Zm220 220h160v-160H400v160Zm0 220h160v-160H400v160ZM180-400h160v-160H180v160Zm440 0h160v-160H620v160ZM180-180h160v-160H180v160Zm440 0h160v-160H620v160Z\"/>\n",
              "  </svg>\n",
              "    </button>\n",
              "\n",
              "  <style>\n",
              "    .colab-df-container {\n",
              "      display:flex;\n",
              "      gap: 12px;\n",
              "    }\n",
              "\n",
              "    .colab-df-convert {\n",
              "      background-color: #E8F0FE;\n",
              "      border: none;\n",
              "      border-radius: 50%;\n",
              "      cursor: pointer;\n",
              "      display: none;\n",
              "      fill: #1967D2;\n",
              "      height: 32px;\n",
              "      padding: 0 0 0 0;\n",
              "      width: 32px;\n",
              "    }\n",
              "\n",
              "    .colab-df-convert:hover {\n",
              "      background-color: #E2EBFA;\n",
              "      box-shadow: 0px 1px 2px rgba(60, 64, 67, 0.3), 0px 1px 3px 1px rgba(60, 64, 67, 0.15);\n",
              "      fill: #174EA6;\n",
              "    }\n",
              "\n",
              "    .colab-df-buttons div {\n",
              "      margin-bottom: 4px;\n",
              "    }\n",
              "\n",
              "    [theme=dark] .colab-df-convert {\n",
              "      background-color: #3B4455;\n",
              "      fill: #D2E3FC;\n",
              "    }\n",
              "\n",
              "    [theme=dark] .colab-df-convert:hover {\n",
              "      background-color: #434B5C;\n",
              "      box-shadow: 0px 1px 3px 1px rgba(0, 0, 0, 0.15);\n",
              "      filter: drop-shadow(0px 1px 2px rgba(0, 0, 0, 0.3));\n",
              "      fill: #FFFFFF;\n",
              "    }\n",
              "  </style>\n",
              "\n",
              "    <script>\n",
              "      const buttonEl =\n",
              "        document.querySelector('#df-7402a062-a9c4-46ba-a32a-f0cdf4580645 button.colab-df-convert');\n",
              "      buttonEl.style.display =\n",
              "        google.colab.kernel.accessAllowed ? 'block' : 'none';\n",
              "\n",
              "      async function convertToInteractive(key) {\n",
              "        const element = document.querySelector('#df-7402a062-a9c4-46ba-a32a-f0cdf4580645');\n",
              "        const dataTable =\n",
              "          await google.colab.kernel.invokeFunction('convertToInteractive',\n",
              "                                                    [key], {});\n",
              "        if (!dataTable) return;\n",
              "\n",
              "        const docLinkHtml = 'Like what you see? Visit the ' +\n",
              "          '<a target=\"_blank\" href=https://colab.research.google.com/notebooks/data_table.ipynb>data table notebook</a>'\n",
              "          + ' to learn more about interactive tables.';\n",
              "        element.innerHTML = '';\n",
              "        dataTable['output_type'] = 'display_data';\n",
              "        await google.colab.output.renderOutput(dataTable, element);\n",
              "        const docLink = document.createElement('div');\n",
              "        docLink.innerHTML = docLinkHtml;\n",
              "        element.appendChild(docLink);\n",
              "      }\n",
              "    </script>\n",
              "  </div>\n",
              "\n",
              "\n",
              "    <div id=\"df-e1937967-1aa6-4ac2-8c06-4f5a0aa92000\">\n",
              "      <button class=\"colab-df-quickchart\" onclick=\"quickchart('df-e1937967-1aa6-4ac2-8c06-4f5a0aa92000')\"\n",
              "                title=\"Suggest charts\"\n",
              "                style=\"display:none;\">\n",
              "\n",
              "<svg xmlns=\"http://www.w3.org/2000/svg\" height=\"24px\"viewBox=\"0 0 24 24\"\n",
              "     width=\"24px\">\n",
              "    <g>\n",
              "        <path d=\"M19 3H5c-1.1 0-2 .9-2 2v14c0 1.1.9 2 2 2h14c1.1 0 2-.9 2-2V5c0-1.1-.9-2-2-2zM9 17H7v-7h2v7zm4 0h-2V7h2v10zm4 0h-2v-4h2v4z\"/>\n",
              "    </g>\n",
              "</svg>\n",
              "      </button>\n",
              "\n",
              "<style>\n",
              "  .colab-df-quickchart {\n",
              "      --bg-color: #E8F0FE;\n",
              "      --fill-color: #1967D2;\n",
              "      --hover-bg-color: #E2EBFA;\n",
              "      --hover-fill-color: #174EA6;\n",
              "      --disabled-fill-color: #AAA;\n",
              "      --disabled-bg-color: #DDD;\n",
              "  }\n",
              "\n",
              "  [theme=dark] .colab-df-quickchart {\n",
              "      --bg-color: #3B4455;\n",
              "      --fill-color: #D2E3FC;\n",
              "      --hover-bg-color: #434B5C;\n",
              "      --hover-fill-color: #FFFFFF;\n",
              "      --disabled-bg-color: #3B4455;\n",
              "      --disabled-fill-color: #666;\n",
              "  }\n",
              "\n",
              "  .colab-df-quickchart {\n",
              "    background-color: var(--bg-color);\n",
              "    border: none;\n",
              "    border-radius: 50%;\n",
              "    cursor: pointer;\n",
              "    display: none;\n",
              "    fill: var(--fill-color);\n",
              "    height: 32px;\n",
              "    padding: 0;\n",
              "    width: 32px;\n",
              "  }\n",
              "\n",
              "  .colab-df-quickchart:hover {\n",
              "    background-color: var(--hover-bg-color);\n",
              "    box-shadow: 0 1px 2px rgba(60, 64, 67, 0.3), 0 1px 3px 1px rgba(60, 64, 67, 0.15);\n",
              "    fill: var(--button-hover-fill-color);\n",
              "  }\n",
              "\n",
              "  .colab-df-quickchart-complete:disabled,\n",
              "  .colab-df-quickchart-complete:disabled:hover {\n",
              "    background-color: var(--disabled-bg-color);\n",
              "    fill: var(--disabled-fill-color);\n",
              "    box-shadow: none;\n",
              "  }\n",
              "\n",
              "  .colab-df-spinner {\n",
              "    border: 2px solid var(--fill-color);\n",
              "    border-color: transparent;\n",
              "    border-bottom-color: var(--fill-color);\n",
              "    animation:\n",
              "      spin 1s steps(1) infinite;\n",
              "  }\n",
              "\n",
              "  @keyframes spin {\n",
              "    0% {\n",
              "      border-color: transparent;\n",
              "      border-bottom-color: var(--fill-color);\n",
              "      border-left-color: var(--fill-color);\n",
              "    }\n",
              "    20% {\n",
              "      border-color: transparent;\n",
              "      border-left-color: var(--fill-color);\n",
              "      border-top-color: var(--fill-color);\n",
              "    }\n",
              "    30% {\n",
              "      border-color: transparent;\n",
              "      border-left-color: var(--fill-color);\n",
              "      border-top-color: var(--fill-color);\n",
              "      border-right-color: var(--fill-color);\n",
              "    }\n",
              "    40% {\n",
              "      border-color: transparent;\n",
              "      border-right-color: var(--fill-color);\n",
              "      border-top-color: var(--fill-color);\n",
              "    }\n",
              "    60% {\n",
              "      border-color: transparent;\n",
              "      border-right-color: var(--fill-color);\n",
              "    }\n",
              "    80% {\n",
              "      border-color: transparent;\n",
              "      border-right-color: var(--fill-color);\n",
              "      border-bottom-color: var(--fill-color);\n",
              "    }\n",
              "    90% {\n",
              "      border-color: transparent;\n",
              "      border-bottom-color: var(--fill-color);\n",
              "    }\n",
              "  }\n",
              "</style>\n",
              "\n",
              "      <script>\n",
              "        async function quickchart(key) {\n",
              "          const quickchartButtonEl =\n",
              "            document.querySelector('#' + key + ' button');\n",
              "          quickchartButtonEl.disabled = true;  // To prevent multiple clicks.\n",
              "          quickchartButtonEl.classList.add('colab-df-spinner');\n",
              "          try {\n",
              "            const charts = await google.colab.kernel.invokeFunction(\n",
              "                'suggestCharts', [key], {});\n",
              "          } catch (error) {\n",
              "            console.error('Error during call to suggestCharts:', error);\n",
              "          }\n",
              "          quickchartButtonEl.classList.remove('colab-df-spinner');\n",
              "          quickchartButtonEl.classList.add('colab-df-quickchart-complete');\n",
              "        }\n",
              "        (() => {\n",
              "          let quickchartButtonEl =\n",
              "            document.querySelector('#df-e1937967-1aa6-4ac2-8c06-4f5a0aa92000 button');\n",
              "          quickchartButtonEl.style.display =\n",
              "            google.colab.kernel.accessAllowed ? 'block' : 'none';\n",
              "        })();\n",
              "      </script>\n",
              "    </div>\n",
              "\n",
              "  <div id=\"id_4c301b54-55ba-42de-8e9b-f9050ba39d74\">\n",
              "    <style>\n",
              "      .colab-df-generate {\n",
              "        background-color: #E8F0FE;\n",
              "        border: none;\n",
              "        border-radius: 50%;\n",
              "        cursor: pointer;\n",
              "        display: none;\n",
              "        fill: #1967D2;\n",
              "        height: 32px;\n",
              "        padding: 0 0 0 0;\n",
              "        width: 32px;\n",
              "      }\n",
              "\n",
              "      .colab-df-generate:hover {\n",
              "        background-color: #E2EBFA;\n",
              "        box-shadow: 0px 1px 2px rgba(60, 64, 67, 0.3), 0px 1px 3px 1px rgba(60, 64, 67, 0.15);\n",
              "        fill: #174EA6;\n",
              "      }\n",
              "\n",
              "      [theme=dark] .colab-df-generate {\n",
              "        background-color: #3B4455;\n",
              "        fill: #D2E3FC;\n",
              "      }\n",
              "\n",
              "      [theme=dark] .colab-df-generate:hover {\n",
              "        background-color: #434B5C;\n",
              "        box-shadow: 0px 1px 3px 1px rgba(0, 0, 0, 0.15);\n",
              "        filter: drop-shadow(0px 1px 2px rgba(0, 0, 0, 0.3));\n",
              "        fill: #FFFFFF;\n",
              "      }\n",
              "    </style>\n",
              "    <button class=\"colab-df-generate\" onclick=\"generateWithVariable('df')\"\n",
              "            title=\"Generate code using this dataframe.\"\n",
              "            style=\"display:none;\">\n",
              "\n",
              "  <svg xmlns=\"http://www.w3.org/2000/svg\" height=\"24px\"viewBox=\"0 0 24 24\"\n",
              "       width=\"24px\">\n",
              "    <path d=\"M7,19H8.4L18.45,9,17,7.55,7,17.6ZM5,21V16.75L18.45,3.32a2,2,0,0,1,2.83,0l1.4,1.43a1.91,1.91,0,0,1,.58,1.4,1.91,1.91,0,0,1-.58,1.4L9.25,21ZM18.45,9,17,7.55Zm-12,3A5.31,5.31,0,0,0,4.9,8.1,5.31,5.31,0,0,0,1,6.5,5.31,5.31,0,0,0,4.9,4.9,5.31,5.31,0,0,0,6.5,1,5.31,5.31,0,0,0,8.1,4.9,5.31,5.31,0,0,0,12,6.5,5.46,5.46,0,0,0,6.5,12Z\"/>\n",
              "  </svg>\n",
              "    </button>\n",
              "    <script>\n",
              "      (() => {\n",
              "      const buttonEl =\n",
              "        document.querySelector('#id_4c301b54-55ba-42de-8e9b-f9050ba39d74 button.colab-df-generate');\n",
              "      buttonEl.style.display =\n",
              "        google.colab.kernel.accessAllowed ? 'block' : 'none';\n",
              "\n",
              "      buttonEl.onclick = () => {\n",
              "        google.colab.notebook.generateWithVariable('df');\n",
              "      }\n",
              "      })();\n",
              "    </script>\n",
              "  </div>\n",
              "\n",
              "    </div>\n",
              "  </div>\n"
            ],
            "application/vnd.google.colaboratory.intrinsic+json": {
              "type": "dataframe",
              "variable_name": "df",
              "summary": "{\n  \"name\": \"df\",\n  \"rows\": 5,\n  \"fields\": [\n    {\n      \"column\": \"individual\",\n      \"properties\": {\n        \"dtype\": \"object\",\n        \"semantic_type\": \"\",\n        \"description\": \"\"\n      }\n    },\n    {\n      \"column\": \"fitnessFunct\",\n      \"properties\": {\n        \"dtype\": \"number\",\n        \"std\": 23.70333973648954,\n        \"min\": 241.72569867777236,\n        \"max\": 294.7905793048903,\n        \"num_unique_values\": 3,\n        \"samples\": [\n          294.7905793048903,\n          276.9767104989054,\n          241.72569867777236\n        ],\n        \"semantic_type\": \"\",\n        \"description\": \"\"\n      }\n    },\n    {\n      \"column\": \"probability\",\n      \"properties\": {\n        \"dtype\": \"number\",\n        \"std\": 0.017792690004901413,\n        \"min\": 0.1814491320887924,\n        \"max\": 0.22128178780911406,\n        \"num_unique_values\": 3,\n        \"samples\": [\n          0.22128178780911406,\n          0.20790997400665057,\n          0.1814491320887924\n        ],\n        \"semantic_type\": \"\",\n        \"description\": \"\"\n      }\n    },\n    {\n      \"column\": \"accumulated probability\",\n      \"properties\": {\n        \"dtype\": \"number\",\n        \"std\": 0.3080143694120078,\n        \"min\": 0.22128178780911406,\n        \"max\": 1.0,\n        \"num_unique_values\": 5,\n        \"samples\": [\n          0.4291917618157646,\n          1.0,\n          0.6371017358224151\n        ],\n        \"semantic_type\": \"\",\n        \"description\": \"\"\n      }\n    }\n  ]\n}"
            }
          },
          "metadata": {},
          "execution_count": 18
        }
      ]
    },
    {
      "cell_type": "code",
      "metadata": {
        "colab": {
          "base_uri": "https://localhost:8080/",
          "height": 409
        },
        "id": "Tvje9BR1HXCL",
        "outputId": "64cd275d-ef13-4c94-e87e-4de26c062a4e"
      },
      "source": [
        "import matplotlib.pyplot as plt\n",
        "\n",
        "labels = np.arange(len(probability))\n",
        "\n",
        "fig1, ax1 = plt.subplots()\n",
        "ax1.pie(probability, labels=labels, autopct='%1.1f%%',shadow=True, startangle=90)\n",
        "ax1.axis('equal')\n",
        "plt.show()"
      ],
      "execution_count": 19,
      "outputs": [
        {
          "output_type": "display_data",
          "data": {
            "text/plain": [
              "<Figure size 640x480 with 1 Axes>"
            ],
            "image/png": "[encoded data removed]"
          },
          "metadata": {}
        }
      ]
    },
    {
      "cell_type": "code",
      "metadata": {
        "colab": {
          "base_uri": "https://localhost:8080/",
          "height": 542
        },
        "id": "KQVWhXR1wHHw",
        "outputId": "798fd773-9720-49de-8be9-62963f1ba825"
      },
      "source": [
        "import plotly.graph_objects as go\n",
        "fig = go.Figure(data=[go.Pie(labels=labels, values=of, textinfo='label+percent')])\n",
        "fig.show()"
      ],
      "execution_count": 20,
      "outputs": [
        {
          "output_type": "display_data",
          "data": {
            "text/html": [
              "<html>\n",
              "<head><meta charset=\"utf-8\" /></head>\n",
              "<body>\n",
              "    <div>            <script src=\"https://cdnjs.cloudflare.com/ajax/libs/mathjax/2.7.5/MathJax.js?config=TeX-AMS-MML_SVG\"></script><script type=\"text/javascript\">if (window.MathJax && window.MathJax.Hub && window.MathJax.Hub.Config) {window.MathJax.Hub.Config({SVG: {font: \"STIX-Web\"}});}</script>                <script type=\"text/javascript\">window.PlotlyConfig = {MathJaxConfig: 'local'};</script>\n",
              "        <script charset=\"utf-8\" src=\"https://cdn.plot.ly/plotly-2.35.2.min.js\"></script>                <div id=\"30595a82-b9c4-496f-b79a-6d0db144b8cd\" class=\"plotly-graph-div\" style=\"height:525px; width:100%;\"></div>            <script type=\"text/javascript\">                                    window.PLOTLYENV=window.PLOTLYENV || {};                                    if (document.getElementById(\"30595a82-b9c4-496f-b79a-6d0db144b8cd\")) {                    Plotly.newPlot(                        \"30595a82-b9c4-496f-b79a-6d0db144b8cd\",                        [{\"labels\":[0,1,2,3,4],\"textinfo\":\"label+percent\",\"values\":[294.7905793048903,276.9767104989054,276.9767104989054,241.72569867777236,241.72569867777236],\"type\":\"pie\"}],                        {\"template\":{\"data\":{\"histogram2dcontour\":[{\"type\":\"histogram2dcontour\",\"colorbar\":{\"outlinewidth\":0,\"ticks\":\"\"},\"colorscale\":[[0.0,\"#0d0887\"],[0.1111111111111111,\"#46039f\"],[0.2222222222222222,\"#7201a8\"],[0.3333333333333333,\"#9c179e\"],[0.4444444444444444,\"#bd3786\"],[0.5555555555555556,\"#d8576b\"],[0.6666666666666666,\"#ed7953\"],[0.7777777777777778,\"#fb9f3a\"],[0.8888888888888888,\"#fdca26\"],[1.0,\"#f0f921\"]]}],\"choropleth\":[{\"type\":\"choropleth\",\"colorbar\":{\"outlinewidth\":0,\"ticks\":\"\"}}],\"histogram2d\":[{\"type\":\"histogram2d\",\"colorbar\":{\"outlinewidth\":0,\"ticks\":\"\"},\"colorscale\":[[0.0,\"#0d0887\"],[0.1111111111111111,\"#46039f\"],[0.2222222222222222,\"#7201a8\"],[0.3333333333333333,\"#9c179e\"],[0.4444444444444444,\"#bd3786\"],[0.5555555555555556,\"#d8576b\"],[0.6666666666666666,\"#ed7953\"],[0.7777777777777778,\"#fb9f3a\"],[0.8888888888888888,\"#fdca26\"],[1.0,\"#f0f921\"]]}],\"heatmap\":[{\"type\":\"heatmap\",\"colorbar\":{\"outlinewidth\":0,\"ticks\":\"\"},\"colorscale\":[[0.0,\"#0d0887\"],[0.1111111111111111,\"#46039f\"],[0.2222222222222222,\"#7201a8\"],[0.3333333333333333,\"#9c179e\"],[0.4444444444444444,\"#bd3786\"],[0.5555555555555556,\"#d8576b\"],[0.6666666666666666,\"#ed7953\"],[0.7777777777777778,\"#fb9f3a\"],[0.8888888888888888,\"#fdca26\"],[1.0,\"#f0f921\"]]}],\"heatmapgl\":[{\"type\":\"heatmapgl\",\"colorbar\":{\"outlinewidth\":0,\"ticks\":\"\"},\"colorscale\":[[0.0,\"#0d0887\"],[0.1111111111111111,\"#46039f\"],[0.2222222222222222,\"#7201a8\"],[0.3333333333333333,\"#9c179e\"],[0.4444444444444444,\"#bd3786\"],[0.5555555555555556,\"#d8576b\"],[0.6666666666666666,\"#ed7953\"],[0.7777777777777778,\"#fb9f3a\"],[0.8888888888888888,\"#fdca26\"],[1.0,\"#f0f921\"]]}],\"contourcarpet\":[{\"type\":\"contourcarpet\",\"colorbar\":{\"outlinewidth\":0,\"ticks\":\"\"}}],\"contour\":[{\"type\":\"contour\",\"colorbar\":{\"outlinewidth\":0,\"ticks\":\"\"},\"colorscale\":[[0.0,\"#0d0887\"],[0.1111111111111111,\"#46039f\"],[0.2222222222222222,\"#7201a8\"],[0.3333333333333333,\"#9c179e\"],[0.4444444444444444,\"#bd3786\"],[0.5555555555555556,\"#d8576b\"],[0.6666666666666666,\"#ed7953\"],[0.7777777777777778,\"#fb9f3a\"],[0.8888888888888888,\"#fdca26\"],[1.0,\"#f0f921\"]]}],\"surface\":[{\"type\":\"surface\",\"colorbar\":{\"outlinewidth\":0,\"ticks\":\"\"},\"colorscale\":[[0.0,\"#0d0887\"],[0.1111111111111111,\"#46039f\"],[0.2222222222222222,\"#7201a8\"],[0.3333333333333333,\"#9c179e\"],[0.4444444444444444,\"#bd3786\"],[0.5555555555555556,\"#d8576b\"],[0.6666666666666666,\"#ed7953\"],[0.7777777777777778,\"#fb9f3a\"],[0.8888888888888888,\"#fdca26\"],[1.0,\"#f0f921\"]]}],\"mesh3d\":[{\"type\":\"mesh3d\",\"colorbar\":{\"outlinewidth\":0,\"ticks\":\"\"}}],\"scatter\":[{\"fillpattern\":{\"fillmode\":\"overlay\",\"size\":10,\"solidity\":0.2},\"type\":\"scatter\"}],\"parcoords\":[{\"type\":\"parcoords\",\"line\":{\"colorbar\":{\"outlinewidth\":0,\"ticks\":\"\"}}}],\"scatterpolargl\":[{\"type\":\"scatterpolargl\",\"marker\":{\"colorbar\":{\"outlinewidth\":0,\"ticks\":\"\"}}}],\"bar\":[{\"error_x\":{\"color\":\"#2a3f5f\"},\"error_y\":{\"color\":\"#2a3f5f\"},\"marker\":{\"line\":{\"color\":\"#E5ECF6\",\"width\":0.5},\"pattern\":{\"fillmode\":\"overlay\",\"size\":10,\"solidity\":0.2}},\"type\":\"bar\"}],\"scattergeo\":[{\"type\":\"scattergeo\",\"marker\":{\"colorbar\":{\"outlinewidth\":0,\"ticks\":\"\"}}}],\"scatterpolar\":[{\"type\":\"scatterpolar\",\"marker\":{\"colorbar\":{\"outlinewidth\":0,\"ticks\":\"\"}}}],\"histogram\":[{\"marker\":{\"pattern\":{\"fillmode\":\"overlay\",\"size\":10,\"solidity\":0.2}},\"type\":\"histogram\"}],\"scattergl\":[{\"type\":\"scattergl\",\"marker\":{\"colorbar\":{\"outlinewidth\":0,\"ticks\":\"\"}}}],\"scatter3d\":[{\"type\":\"scatter3d\",\"line\":{\"colorbar\":{\"outlinewidth\":0,\"ticks\":\"\"}},\"marker\":{\"colorbar\":{\"outlinewidth\":0,\"ticks\":\"\"}}}],\"scattermapbox\":[{\"type\":\"scattermapbox\",\"marker\":{\"colorbar\":{\"outlinewidth\":0,\"ticks\":\"\"}}}],\"scatterternary\":[{\"type\":\"scatterternary\",\"marker\":{\"colorbar\":{\"outlinewidth\":0,\"ticks\":\"\"}}}],\"scattercarpet\":[{\"type\":\"scattercarpet\",\"marker\":{\"colorbar\":{\"outlinewidth\":0,\"ticks\":\"\"}}}],\"carpet\":[{\"aaxis\":{\"endlinecolor\":\"#2a3f5f\",\"gridcolor\":\"white\",\"linecolor\":\"white\",\"minorgridcolor\":\"white\",\"startlinecolor\":\"#2a3f5f\"},\"baxis\":{\"endlinecolor\":\"#2a3f5f\",\"gridcolor\":\"white\",\"linecolor\":\"white\",\"minorgridcolor\":\"white\",\"startlinecolor\":\"#2a3f5f\"},\"type\":\"carpet\"}],\"table\":[{\"cells\":{\"fill\":{\"color\":\"#EBF0F8\"},\"line\":{\"color\":\"white\"}},\"header\":{\"fill\":{\"color\":\"#C8D4E3\"},\"line\":{\"color\":\"white\"}},\"type\":\"table\"}],\"barpolar\":[{\"marker\":{\"line\":{\"color\":\"#E5ECF6\",\"width\":0.5},\"pattern\":{\"fillmode\":\"overlay\",\"size\":10,\"solidity\":0.2}},\"type\":\"barpolar\"}],\"pie\":[{\"automargin\":true,\"type\":\"pie\"}]},\"layout\":{\"autotypenumbers\":\"strict\",\"colorway\":[\"#636efa\",\"#EF553B\",\"#00cc96\",\"#ab63fa\",\"#FFA15A\",\"#19d3f3\",\"#FF6692\",\"#B6E880\",\"#FF97FF\",\"#FECB52\"],\"font\":{\"color\":\"#2a3f5f\"},\"hovermode\":\"closest\",\"hoverlabel\":{\"align\":\"left\"},\"paper_bgcolor\":\"white\",\"plot_bgcolor\":\"#E5ECF6\",\"polar\":{\"bgcolor\":\"#E5ECF6\",\"angularaxis\":{\"gridcolor\":\"white\",\"linecolor\":\"white\",\"ticks\":\"\"},\"radialaxis\":{\"gridcolor\":\"white\",\"linecolor\":\"white\",\"ticks\":\"\"}},\"ternary\":{\"bgcolor\":\"#E5ECF6\",\"aaxis\":{\"gridcolor\":\"white\",\"linecolor\":\"white\",\"ticks\":\"\"},\"baxis\":{\"gridcolor\":\"white\",\"linecolor\":\"white\",\"ticks\":\"\"},\"caxis\":{\"gridcolor\":\"white\",\"linecolor\":\"white\",\"ticks\":\"\"}},\"coloraxis\":{\"colorbar\":{\"outlinewidth\":0,\"ticks\":\"\"}},\"colorscale\":{\"sequential\":[[0.0,\"#0d0887\"],[0.1111111111111111,\"#46039f\"],[0.2222222222222222,\"#7201a8\"],[0.3333333333333333,\"#9c179e\"],[0.4444444444444444,\"#bd3786\"],[0.5555555555555556,\"#d8576b\"],[0.6666666666666666,\"#ed7953\"],[0.7777777777777778,\"#fb9f3a\"],[0.8888888888888888,\"#fdca26\"],[1.0,\"#f0f921\"]],\"sequentialminus\":[[0.0,\"#0d0887\"],[0.1111111111111111,\"#46039f\"],[0.2222222222222222,\"#7201a8\"],[0.3333333333333333,\"#9c179e\"],[0.4444444444444444,\"#bd3786\"],[0.5555555555555556,\"#d8576b\"],[0.6666666666666666,\"#ed7953\"],[0.7777777777777778,\"#fb9f3a\"],[0.8888888888888888,\"#fdca26\"],[1.0,\"#f0f921\"]],\"diverging\":[[0,\"#8e0152\"],[0.1,\"#c51b7d\"],[0.2,\"#de77ae\"],[0.3,\"#f1b6da\"],[0.4,\"#fde0ef\"],[0.5,\"#f7f7f7\"],[0.6,\"#e6f5d0\"],[0.7,\"#b8e186\"],[0.8,\"#7fbc41\"],[0.9,\"#4d9221\"],[1,\"#276419\"]]},\"xaxis\":{\"gridcolor\":\"white\",\"linecolor\":\"white\",\"ticks\":\"\",\"title\":{\"standoff\":15},\"zerolinecolor\":\"white\",\"automargin\":true,\"zerolinewidth\":2},\"yaxis\":{\"gridcolor\":\"white\",\"linecolor\":\"white\",\"ticks\":\"\",\"title\":{\"standoff\":15},\"zerolinecolor\":\"white\",\"automargin\":true,\"zerolinewidth\":2},\"scene\":{\"xaxis\":{\"backgroundcolor\":\"#E5ECF6\",\"gridcolor\":\"white\",\"linecolor\":\"white\",\"showbackground\":true,\"ticks\":\"\",\"zerolinecolor\":\"white\",\"gridwidth\":2},\"yaxis\":{\"backgroundcolor\":\"#E5ECF6\",\"gridcolor\":\"white\",\"linecolor\":\"white\",\"showbackground\":true,\"ticks\":\"\",\"zerolinecolor\":\"white\",\"gridwidth\":2},\"zaxis\":{\"backgroundcolor\":\"#E5ECF6\",\"gridcolor\":\"white\",\"linecolor\":\"white\",\"showbackground\":true,\"ticks\":\"\",\"zerolinecolor\":\"white\",\"gridwidth\":2}},\"shapedefaults\":{\"line\":{\"color\":\"#2a3f5f\"}},\"annotationdefaults\":{\"arrowcolor\":\"#2a3f5f\",\"arrowhead\":0,\"arrowwidth\":1},\"geo\":{\"bgcolor\":\"white\",\"landcolor\":\"#E5ECF6\",\"subunitcolor\":\"white\",\"showland\":true,\"showlakes\":true,\"lakecolor\":\"white\"},\"title\":{\"x\":0.05},\"mapbox\":{\"style\":\"light\"}}}},                        {\"responsive\": true}                    ).then(function(){\n",
              "                            \n",
              "var gd = document.getElementById('30595a82-b9c4-496f-b79a-6d0db144b8cd');\n",
              "var x = new MutationObserver(function (mutations, observer) {{\n",
              "        var display = window.getComputedStyle(gd).display;\n",
              "        if (!display || display === 'none') {{\n",
              "            console.log([gd, 'removed!']);\n",
              "            Plotly.purge(gd);\n",
              "            observer.disconnect();\n",
              "        }}\n",
              "}});\n",
              "\n",
              "// Listen for the removal of the full notebook cells\n",
              "var notebookContainer = gd.closest('#notebook-container');\n",
              "if (notebookContainer) {{\n",
              "    x.observe(notebookContainer, {childList: true});\n",
              "}}\n",
              "\n",
              "// Listen for the clearing of the current output cell\n",
              "var outputEl = gd.closest('.output');\n",
              "if (outputEl) {{\n",
              "    x.observe(outputEl, {childList: true});\n",
              "}}\n",
              "\n",
              "                        })                };                            </script>        </div>\n",
              "</body>\n",
              "</html>"
            ]
          },
          "metadata": {}
        }
      ]
    },
    {
      "cell_type": "markdown",
      "metadata": {
        "id": "BnBXeg3D1gDH"
      },
      "source": [
        "Método del método de la ruleta, para poder hacer la selección"
      ]
    },
    {
      "cell_type": "code",
      "metadata": {
        "id": "mQie-gXK1kq8"
      },
      "source": [
        "def roulette(population):\n",
        "  of=[fitnessFunct(s) for s in population]\n",
        "  probability=of/sum(of)\n",
        "  accumulatedProb=np.cumsum(probability)\n",
        "  return accumulatedProb"
      ],
      "execution_count": 21,
      "outputs": []
    },
    {
      "cell_type": "code",
      "metadata": {
        "id": "c0exSY9B2Clg"
      },
      "source": [
        "accumulatedProb=roulette(population)"
      ],
      "execution_count": 22,
      "outputs": []
    },
    {
      "cell_type": "code",
      "metadata": {
        "id": "yiwwa-Ts1-qB"
      },
      "source": [
        "def selection(population):\n",
        "  nr=np.random.uniform()\n",
        "  for i,p in enumerate(accumulatedProb):\n",
        "    if nr<p:\n",
        "      return i, population[i]"
      ],
      "execution_count": 23,
      "outputs": []
    },
    {
      "cell_type": "code",
      "metadata": {
        "colab": {
          "base_uri": "https://localhost:8080/"
        },
        "id": "e6ed9g4s21_t",
        "outputId": "adf857c7-8fa5-4612-e581-dc7a1816f621"
      },
      "source": [
        "selection(population)[1]"
      ],
      "execution_count": 24,
      "outputs": [
        {
          "output_type": "execute_result",
          "data": {
            "text/plain": [
              "array([1, 1, 0, 0, 0, 0, 0, 0, 0, 0])"
            ]
          },
          "metadata": {},
          "execution_count": 24
        }
      ]
    },
    {
      "cell_type": "markdown",
      "metadata": {
        "id": "paSNCJRKFyrb"
      },
      "source": [
        "Aunque se puede usar también la función de numpy *np.random.choice* que selecciona de una lista bajo una probabilidad, o sea, el mismo sentido de selección por ruleta."
      ]
    },
    {
      "cell_type": "code",
      "metadata": {
        "colab": {
          "base_uri": "https://localhost:8080/"
        },
        "id": "lVBBXtz1F-sP",
        "outputId": "18cbf739-29c4-4a5f-fe14-02be8321d508"
      },
      "source": [
        "population=generateFirstPopulation(N,NP)\n",
        "of=[fitnessFunct(s) for s in population]\n",
        "probability=of/sum(of)\n",
        "indexPop=np.arange(len(population))\n",
        "np.random.choice(indexPop.tolist(),1,p=probability.tolist())"
      ],
      "execution_count": 25,
      "outputs": [
        {
          "output_type": "execute_result",
          "data": {
            "text/plain": [
              "array([5])"
            ]
          },
          "metadata": {},
          "execution_count": 25
        }
      ]
    },
    {
      "cell_type": "markdown",
      "metadata": {
        "id": "M2bflob-BipP"
      },
      "source": [
        "### Cruce: Cruce de un punto (one point crossover)"
      ]
    },
    {
      "cell_type": "code",
      "metadata": {
        "colab": {
          "base_uri": "https://localhost:8080/"
        },
        "id": "6_RJ7YsKDiwb",
        "outputId": "c3752ed5-8574-4662-a117-867a11230520"
      },
      "source": [
        "## Generar punto de corte\n",
        "cp=np.random.randint(1,len(sp[0])-1)\n",
        "cp"
      ],
      "execution_count": 26,
      "outputs": [
        {
          "output_type": "execute_result",
          "data": {
            "text/plain": [
              "3"
            ]
          },
          "metadata": {},
          "execution_count": 26
        }
      ]
    },
    {
      "cell_type": "code",
      "metadata": {
        "colab": {
          "base_uri": "https://localhost:8080/"
        },
        "id": "rRG68XdkEa-I",
        "outputId": "48245a4a-728b-4023-fa40-1b63922723c8"
      },
      "source": [
        "print(population[0])\n",
        "print(population[1])"
      ],
      "execution_count": 27,
      "outputs": [
        {
          "output_type": "stream",
          "name": "stdout",
          "text": [
            "[0 0 0 0 0 0 1 0 0 0]\n",
            "[0 0 0 0 1 0 0 0 0 0]\n"
          ]
        }
      ]
    },
    {
      "cell_type": "code",
      "metadata": {
        "colab": {
          "base_uri": "https://localhost:8080/"
        },
        "id": "fJUV9kxsEVxA",
        "outputId": "b9b727c4-39e9-4678-8423-e8a147efb1ab"
      },
      "source": [
        "child1=np.concatenate((population[0][0:cp+1],population[1][cp+1:len(population[1])]), axis=0)\n",
        "child1"
      ],
      "execution_count": 28,
      "outputs": [
        {
          "output_type": "execute_result",
          "data": {
            "text/plain": [
              "array([0, 0, 0, 0, 1, 0, 0, 0, 0, 0])"
            ]
          },
          "metadata": {},
          "execution_count": 28
        }
      ]
    },
    {
      "cell_type": "code",
      "metadata": {
        "id": "8Ev5-YwxC40J"
      },
      "source": [
        "def crossover(ind1, ind2):\n",
        "  cp=np.random.randint(1,len(sp[0])-1)\n",
        "  ## Create new children\n",
        "  child1=np.concatenate((ind1[0:cp+1],ind2[cp+1:len(ind2)]))\n",
        "  child2=np.concatenate((ind2[0:cp+1],ind1[cp+1:len(ind1)]))\n",
        "  return child1,child2"
      ],
      "execution_count": 29,
      "outputs": []
    },
    {
      "cell_type": "code",
      "metadata": {
        "colab": {
          "base_uri": "https://localhost:8080/"
        },
        "id": "jF89SyCHGWXQ",
        "outputId": "a6bb23f9-08d6-4577-b20d-4000117bb75b"
      },
      "source": [
        "ind1=selection(population)[1]\n",
        "ind2=selection(population)[1]\n",
        "print(ind1)\n",
        "print(ind2)"
      ],
      "execution_count": 30,
      "outputs": [
        {
          "output_type": "stream",
          "name": "stdout",
          "text": [
            "[0 0 0 1 1 0 0 0 1 1]\n",
            "[0 0 0 0 1 0 0 1 1 0]\n"
          ]
        }
      ]
    },
    {
      "cell_type": "code",
      "metadata": {
        "colab": {
          "base_uri": "https://localhost:8080/"
        },
        "id": "MmoJ4H4CGwMI",
        "outputId": "3a4dd08d-991f-4ae9-ce0b-ad389d12d78e"
      },
      "source": [
        "crossover(ind1,ind2)"
      ],
      "execution_count": 31,
      "outputs": [
        {
          "output_type": "execute_result",
          "data": {
            "text/plain": [
              "(array([0, 0, 0, 1, 1, 0, 0, 0, 1, 0]), array([0, 0, 0, 0, 1, 0, 0, 1, 1, 1]))"
            ]
          },
          "metadata": {},
          "execution_count": 31
        }
      ]
    },
    {
      "cell_type": "markdown",
      "metadata": {
        "id": "0kxDh5ZOBgS4"
      },
      "source": [
        "### Mutación: Mutación de un bit"
      ]
    },
    {
      "cell_type": "code",
      "metadata": {
        "colab": {
          "base_uri": "https://localhost:8080/"
        },
        "id": "Ykn0P_-YIL-h",
        "outputId": "6e724fd2-e15c-4fc7-ad25-2650f464713c"
      },
      "source": [
        "cp=np.random.randint(0,len(sp[0])-1)\n",
        "print(cp)\n",
        "ind=population[0]\n",
        "print(ind)\n",
        "child=np.copy(ind)\n",
        "child[cp]=not child[cp]\n",
        "print(child)"
      ],
      "execution_count": 32,
      "outputs": [
        {
          "output_type": "stream",
          "name": "stdout",
          "text": [
            "3\n",
            "[0 0 0 0 0 0 1 0 0 0]\n",
            "[0 0 0 1 0 0 1 0 0 0]\n"
          ]
        }
      ]
    },
    {
      "cell_type": "code",
      "metadata": {
        "id": "u2Pq1hEuDC-Y"
      },
      "source": [
        "def mutate(ind):\n",
        "  cp=np.random.randint(0,len(sp[0])-1)\n",
        "  child=np.copy(ind)\n",
        "  child[cp]=not child[cp]\n",
        "  return child"
      ],
      "execution_count": 33,
      "outputs": []
    },
    {
      "cell_type": "markdown",
      "metadata": {
        "id": "gisUrsmSKDDw"
      },
      "source": [
        "## Método de algoritmo genético"
      ]
    },
    {
      "cell_type": "markdown",
      "metadata": {
        "id": "XcxiSVEUL9W-"
      },
      "source": [
        "Este algoritmo genético parará en un número de generaciones determinado, se guardará el mejor individuo de cada población y se devolverá el mejor de todos."
      ]
    },
    {
      "cell_type": "code",
      "metadata": {
        "id": "3c6RJI6k49Lx"
      },
      "source": [
        "#@title Introduzca la cantidad de generaciones para el algoritmo\n",
        "generations = 300 #@param {type:\"integer\"}"
      ],
      "execution_count": 34,
      "outputs": []
    },
    {
      "cell_type": "code",
      "metadata": {
        "id": "xVu429mwNdP_"
      },
      "source": [
        "#@title Texto de título predeterminado\n",
        "mutation_probability = 0.1 #@param {type:\"number\"}\n",
        "crossover_probability = 0.9 #@param {type:\"number\"}\n"
      ],
      "execution_count": 35,
      "outputs": []
    },
    {
      "cell_type": "code",
      "metadata": {
        "id": "_sZN007KKFxI"
      },
      "source": [
        "def geneticAlgorithm(sizeIndividual, sizePopulation, generations, mutation_probability, crossover_probability):\n",
        "  population=generateFirstPopulation(sizeIndividual, sizePopulation)\n",
        "  accumulatedProb=roulette(population)\n",
        "  print(population)\n",
        "  of=[fitnessFunct(s) for s in population]\n",
        "  sorted_population=sorted(population,key=fitnessFunct,reverse=True)\n",
        "  bestIndividual=[sorted_population[0]] # Lista de los mejores cromosomas\n",
        "  for i in range(generations):\n",
        "    #Generar la nueva población\n",
        "    nextPopulation=[]\n",
        "    count=0\n",
        "    while True: # para crear la población cuando tengamos NP individuos\n",
        "      # Hacemos selección de dos individuos y cruce si es posible\n",
        "      ind1=selection(population)[1]\n",
        "      ind2=selection(population)[1]\n",
        "      crossProb=nr=np.random.uniform()\n",
        "      if crossProb<crossover_probability:\n",
        "        child1,child2=crossover(ind1,ind2)\n",
        "        if valid(child1):\n",
        "          nextPopulation.append(child1)\n",
        "        if valid(child2):\n",
        "          nextPopulation.append(child2)\n",
        "      else:\n",
        "        nextPopulation.append(ind1)\n",
        "        nextPopulation.append(ind2)\n",
        "      # Hacemos selección de un individuo y mutación si es posible\n",
        "      mutProb=nr=np.random.uniform()\n",
        "      ind=selection(population)[1]\n",
        "      if mutProb<mutation_probability:\n",
        "        child=mutate(ind)\n",
        "        if valid(child):\n",
        "          nextPopulation.append(child)\n",
        "      else:\n",
        "        nextPopulation.append(ind)\n",
        "      if len(nextPopulation)>=sizePopulation:\n",
        "        nextPopulation=nextPopulation[0:sizePopulation]\n",
        "        break;\n",
        "\n",
        "    accumulatedProb=roulette(nextPopulation)\n",
        "    sorted_population=sorted(nextPopulation,key=fitnessFunct,reverse=True)\n",
        "    bestIndividual.append(sorted_population[0])\n",
        "    population=nextPopulation\n",
        "  sortedBest=sorted(bestIndividual,key=fitnessFunct,reverse=True)\n",
        "  return bestIndividual,sortedBest[0]\n"
      ],
      "execution_count": 36,
      "outputs": []
    },
    {
      "cell_type": "code",
      "metadata": {
        "colab": {
          "base_uri": "https://localhost:8080/"
        },
        "id": "lKZ-Iy9dRRt4",
        "outputId": "28b57f9f-9101-4600-8498-c42387268f6d"
      },
      "source": [
        "sizeIndividual=N\n",
        "sizePopulation=NP\n",
        "bestList,bestInd=geneticAlgorithm(sizeIndividual, sizePopulation, generations, mutation_probability, crossover_probability)\n",
        "bestInd"
      ],
      "execution_count": 37,
      "outputs": [
        {
          "output_type": "stream",
          "name": "stdout",
          "text": [
            "[array([0, 0, 0, 0, 0, 1, 0, 1, 0, 0]), array([0, 1, 0, 1, 0, 0, 0, 0, 0, 1]), array([1, 0, 0, 0, 1, 0, 0, 0, 0, 0]), array([0, 0, 1, 0, 1, 0, 0, 0, 0, 0]), array([1, 0, 0, 1, 0, 0, 0, 0, 1, 0]), array([0, 0, 0, 0, 1, 1, 0, 1, 0, 0]), array([0, 1, 0, 0, 1, 0, 0, 0, 1, 0]), array([0, 1, 0, 0, 0, 0, 0, 0, 0, 1]), array([0, 0, 0, 0, 0, 0, 0, 0, 1, 1]), array([0, 1, 0, 0, 1, 0, 0, 0, 0, 1]), array([0, 1, 0, 1, 1, 1, 0, 0, 1, 0]), array([1, 0, 0, 0, 1, 1, 0, 0, 1, 0]), array([0, 0, 0, 0, 0, 0, 0, 1, 1, 0]), array([0, 0, 1, 1, 0, 0, 0, 0, 0, 0]), array([0, 0, 1, 0, 0, 0, 0, 0, 0, 0]), array([0, 0, 0, 1, 1, 0, 0, 1, 0, 0]), array([0, 1, 0, 1, 1, 1, 0, 0, 0, 0]), array([0, 0, 0, 1, 0, 1, 0, 0, 1, 0]), array([0, 0, 0, 1, 0, 1, 0, 0, 0, 0]), array([0, 1, 0, 0, 0, 1, 0, 0, 1, 0]), array([0, 0, 0, 0, 1, 1, 0, 1, 0, 0]), array([0, 1, 0, 0, 0, 0, 0, 0, 1, 0]), array([0, 1, 0, 0, 0, 0, 0, 0, 1, 0]), array([1, 0, 0, 0, 1, 1, 0, 0, 0, 0]), array([0, 0, 0, 0, 1, 0, 0, 1, 1, 0]), array([0, 0, 1, 0, 0, 0, 0, 0, 0, 0]), array([1, 0, 0, 1, 0, 1, 0, 0, 0, 0]), array([1, 1, 0, 0, 0, 0, 0, 0, 0, 0]), array([0, 1, 0, 1, 0, 1, 0, 0, 0, 0]), array([0, 0, 0, 0, 0, 0, 0, 0, 1, 1])]\n"
          ]
        },
        {
          "output_type": "execute_result",
          "data": {
            "text/plain": [
              "array([0, 1, 0, 1, 1, 1, 0, 0, 1, 0])"
            ]
          },
          "metadata": {},
          "execution_count": 37
        }
      ]
    },
    {
      "cell_type": "code",
      "metadata": {
        "colab": {
          "base_uri": "https://localhost:8080/",
          "height": 542
        },
        "id": "YB1z613J-BM8",
        "outputId": "720c7cb6-a01b-4724-f01a-9d66f6ddc75c"
      },
      "source": [
        "iteration=np.arange(0,len(bestList))\n",
        "fitnessValue=[fitnessFunct(x) for x in bestList]\n",
        "df = pd.DataFrame(list(zip(iteration,fitnessValue)),\n",
        "               columns =['iteration', 'fitness'])\n",
        "fig = px.line(df, x=\"iteration\", y=\"fitness\")\n",
        "fig.show()"
      ],
      "execution_count": 38,
      "outputs": [
        {
          "output_type": "display_data",
          "data": {
            "text/html": [
              "<html>\n",
              "<head><meta charset=\"utf-8\" /></head>\n",
              "<body>\n",
              "    <div>            <script src=\"https://cdnjs.cloudflare.com/ajax/libs/mathjax/2.7.5/MathJax.js?config=TeX-AMS-MML_SVG\"></script><script type=\"text/javascript\">if (window.MathJax && window.MathJax.Hub && window.MathJax.Hub.Config) {window.MathJax.Hub.Config({SVG: {font: \"STIX-Web\"}});}</script>                <script type=\"text/javascript\">window.PlotlyConfig = {MathJaxConfig: 'local'};</script>\n",
              "        <script charset=\"utf-8\" src=\"https://cdn.plot.ly/plotly-2.35.2.min.js\"></script>                <div id=\"a3db5679-c709-4e34-ba21-594ad346c7a6\" class=\"plotly-graph-div\" style=\"height:525px; width:100%;\"></div>            <script type=\"text/javascript\">                                    window.PLOTLYENV=window.PLOTLYENV || {};                                    if (document.getElementById(\"a3db5679-c709-4e34-ba21-594ad346c7a6\")) {                    Plotly.newPlot(                        \"a3db5679-c709-4e34-ba21-594ad346c7a6\",                        [{\"hovertemplate\":\"iteration=%{x}\\u003cbr\\u003efitness=%{y}\\u003cextra\\u003e\\u003c\\u002fextra\\u003e\",\"legendgroup\":\"\",\"line\":{\"color\":\"#636efa\",\"dash\":\"solid\"},\"marker\":{\"symbol\":\"circle\"},\"mode\":\"lines\",\"name\":\"\",\"orientation\":\"v\",\"showlegend\":false,\"x\":[0,1,2,3,4,5,6,7,8,9,10,11,12,13,14,15,16,17,18,19,20,21,22,23,24,25,26,27,28,29,30,31,32,33,34,35,36,37,38,39,40,41,42,43,44,45,46,47,48,49,50,51,52,53,54,55,56,57,58,59,60,61,62,63,64,65,66,67,68,69,70,71,72,73,74,75,76,77,78,79,80,81,82,83,84,85,86,87,88,89,90,91,92,93,94,95,96,97,98,99,100,101,102,103,104,105,106,107,108,109,110,111,112,113,114,115,116,117,118,119,120,121,122,123,124,125,126,127,128,129,130,131,132,133,134,135,136,137,138,139,140,141,142,143,144,145,146,147,148,149,150,151,152,153,154,155,156,157,158,159,160,161,162,163,164,165,166,167,168,169,170,171,172,173,174,175,176,177,178,179,180,181,182,183,184,185,186,187,188,189,190,191,192,193,194,195,196,197,198,199,200,201,202,203,204,205,206,207,208,209,210,211,212,213,214,215,216,217,218,219,220,221,222,223,224,225,226,227,228,229,230,231,232,233,234,235,236,237,238,239,240,241,242,243,244,245,246,247,248,249,250,251,252,253,254,255,256,257,258,259,260,261,262,263,264,265,266,267,268,269,270,271,272,273,274,275,276,277,278,279,280,281,282,283,284,285,286,287,288,289,290,291,292,293,294,295,296,297,298,299,300],\"xaxis\":\"x\",\"y\":[337.3654025040448,337.3654025040448,337.3654025040448,319.5970024367525,276.9767104989054,284.3005218769269,237.9683761973166,223.91182987178746,228.10642017397294,223.91182987178746,223.91182987178746,223.91182987178746,276.9767104989054,276.9767104989054,337.3654025040448,276.9767104989054,337.3654025040448,337.3654025040448,337.3654025040448,337.3654025040448,337.3654025040448,337.3654025040448,337.3654025040448,337.3654025040448,337.3654025040448,337.3654025040448,337.3654025040448,337.3654025040448,337.3654025040448,337.3654025040448,337.3654025040448,337.3654025040448,337.3654025040448,337.3654025040448,337.3654025040448,297.46308141005994,337.3654025040448,337.3654025040448,297.46308141005994,297.46308141005994,237.0743894049205,179.14691838237184,203.953341514234,138.2599957641195,138.2599957641195,138.2599957641195,138.2599957641195,138.2599957641195,138.2599957641195,178.16231685810436,178.16231685810436,178.16231685810436,178.16231685810436,178.16231685810436,178.16231685810436,138.2599957641195,151.87927426791893,151.87927426791893,220.7826087959515,220.7826087959515,195.9761856640893,212.26796627305833,198.6486877692589,217.57262001803343,217.57262001803343,217.57262001803343,217.57262001803343,135.58749365894988,135.58749365894988,135.58749365894988,135.58749365894988,56.35480409737913,56.35480409737913,56.35480409737913,92.96720172110278,56.35480409737913,56.35480409737913,56.35480409737913,127.58956335530246,56.35480409737913,113.45357263225733,56.35480409737913,92.96720172110278,92.96720172110278,175.48981475293473,92.96720172110278,56.35480409737913,135.58749365894988,135.58749365894988,175.48981475293473,175.48981475293473,138.2599957641195,138.2599957641195,56.35480409737913,56.35480409737913,118.75822637723243,118.75822637723243,56.35480409737913,56.35480409737913,53.06488062711792,127.58956335530246,127.58956335530246,135.58749365894988,135.58749365894988,135.58749365894988,135.58749365894988,135.58749365894988,135.58749365894988,135.58749365894988,135.58749365894988,135.58749365894988,135.58749365894988,135.58749365894988,135.58749365894988,135.58749365894988,135.58749365894988,135.58749365894988,195.9761856640893,195.9761856640893,195.9761856640893,135.58749365894988,138.2599957641195,127.58956335530246,127.58956335530246,127.58956335530246,138.2599957641195,138.2599957641195,212.78467849230407,212.78467849230407,212.78467849230407,212.78467849230407,212.78467849230407,212.78467849230407,212.78467849230407,212.78467849230407,212.78467849230407,212.78467849230407,212.78467849230407,212.78467849230407,212.78467849230407,237.0743894049205,212.78467849230407,212.78467849230407,212.78467849230407,226.4039569961035,226.4039569961035,226.4039569961035,226.4039569961035,212.78467849230407,212.78467849230407,212.78467849230407,212.78467849230407,212.78467849230407,212.78467849230407,212.78467849230407,212.78467849230407,226.4039569961035,212.78467849230407,212.78467849230407,212.78467849230407,212.78467849230407,212.78467849230407,187.97825536044186,187.97825536044186,187.97825536044186,127.58956335530246,127.58956335530246,127.58956335530246,127.58956335530246,127.58956335530246,127.58956335530246,127.58956335530246,127.58956335530246,127.58956335530246,127.58956335530246,226.4039569961035,226.4039569961035,151.87927426791893,151.87927426791893,151.87927426791893,127.58956335530246,127.58956335530246,151.87927426791893,226.4039569961035,226.4039569961035,226.4039569961035,226.4039569961035,226.4039569961035,226.4039569961035,226.4039569961035,226.4039569961035,226.4039569961035,226.4039569961035,226.4039569961035,226.4039569961035,226.4039569961035,226.4039569961035,226.4039569961035,226.4039569961035,226.4039569961035,226.4039569961035,226.4039569961035,226.4039569961035,226.4039569961035,226.4039569961035,226.4039569961035,226.4039569961035,226.4039569961035,226.4039569961035,226.4039569961035,226.4039569961035,226.4039569961035,226.4039569961035,226.4039569961035,226.4039569961035,226.4039569961035,226.4039569961035,226.4039569961035,226.4039569961035,226.4039569961035,226.4039569961035,226.4039569961035,226.4039569961035,226.4039569961035,226.4039569961035,226.4039569961035,226.4039569961035,226.4039569961035,226.4039569961035,226.4039569961035,226.4039569961035,226.4039569961035,226.4039569961035,226.4039569961035,226.4039569961035,226.4039569961035,226.4039569961035,226.4039569961035,226.4039569961035,226.4039569961035,226.4039569961035,226.4039569961035,226.4039569961035,226.4039569961035,226.4039569961035,226.4039569961035,226.4039569961035,226.4039569961035,226.4039569961035,226.4039569961035,226.4039569961035,226.4039569961035,226.4039569961035,226.4039569961035,226.4039569961035,226.4039569961035,226.4039569961035,226.4039569961035,226.4039569961035,226.4039569961035,226.4039569961035,226.4039569961035,226.4039569961035,226.4039569961035,226.4039569961035,226.4039569961035,226.4039569961035,226.4039569961035,226.4039569961035,226.4039569961035,226.4039569961035,226.4039569961035,226.4039569961035,226.4039569961035,226.4039569961035,226.4039569961035,226.4039569961035,234.4018872997509,234.4018872997509,234.4018872997509,234.4018872997509,234.4018872997509,226.4039569961035,226.4039569961035,226.4039569961035,226.4039569961035,226.4039569961035,226.4039569961035,226.4039569961035,226.4039569961035,226.4039569961035,226.4039569961035,226.4039569961035,226.4039569961035,226.4039569961035,226.4039569961035,226.4039569961035,226.4039569961035,226.4039569961035,226.4039569961035,226.4039569961035],\"yaxis\":\"y\",\"type\":\"scatter\"}],                        {\"template\":{\"data\":{\"histogram2dcontour\":[{\"type\":\"histogram2dcontour\",\"colorbar\":{\"outlinewidth\":0,\"ticks\":\"\"},\"colorscale\":[[0.0,\"#0d0887\"],[0.1111111111111111,\"#46039f\"],[0.2222222222222222,\"#7201a8\"],[0.3333333333333333,\"#9c179e\"],[0.4444444444444444,\"#bd3786\"],[0.5555555555555556,\"#d8576b\"],[0.6666666666666666,\"#ed7953\"],[0.7777777777777778,\"#fb9f3a\"],[0.8888888888888888,\"#fdca26\"],[1.0,\"#f0f921\"]]}],\"choropleth\":[{\"type\":\"choropleth\",\"colorbar\":{\"outlinewidth\":0,\"ticks\":\"\"}}],\"histogram2d\":[{\"type\":\"histogram2d\",\"colorbar\":{\"outlinewidth\":0,\"ticks\":\"\"},\"colorscale\":[[0.0,\"#0d0887\"],[0.1111111111111111,\"#46039f\"],[0.2222222222222222,\"#7201a8\"],[0.3333333333333333,\"#9c179e\"],[0.4444444444444444,\"#bd3786\"],[0.5555555555555556,\"#d8576b\"],[0.6666666666666666,\"#ed7953\"],[0.7777777777777778,\"#fb9f3a\"],[0.8888888888888888,\"#fdca26\"],[1.0,\"#f0f921\"]]}],\"heatmap\":[{\"type\":\"heatmap\",\"colorbar\":{\"outlinewidth\":0,\"ticks\":\"\"},\"colorscale\":[[0.0,\"#0d0887\"],[0.1111111111111111,\"#46039f\"],[0.2222222222222222,\"#7201a8\"],[0.3333333333333333,\"#9c179e\"],[0.4444444444444444,\"#bd3786\"],[0.5555555555555556,\"#d8576b\"],[0.6666666666666666,\"#ed7953\"],[0.7777777777777778,\"#fb9f3a\"],[0.8888888888888888,\"#fdca26\"],[1.0,\"#f0f921\"]]}],\"heatmapgl\":[{\"type\":\"heatmapgl\",\"colorbar\":{\"outlinewidth\":0,\"ticks\":\"\"},\"colorscale\":[[0.0,\"#0d0887\"],[0.1111111111111111,\"#46039f\"],[0.2222222222222222,\"#7201a8\"],[0.3333333333333333,\"#9c179e\"],[0.4444444444444444,\"#bd3786\"],[0.5555555555555556,\"#d8576b\"],[0.6666666666666666,\"#ed7953\"],[0.7777777777777778,\"#fb9f3a\"],[0.8888888888888888,\"#fdca26\"],[1.0,\"#f0f921\"]]}],\"contourcarpet\":[{\"type\":\"contourcarpet\",\"colorbar\":{\"outlinewidth\":0,\"ticks\":\"\"}}],\"contour\":[{\"type\":\"contour\",\"colorbar\":{\"outlinewidth\":0,\"ticks\":\"\"},\"colorscale\":[[0.0,\"#0d0887\"],[0.1111111111111111,\"#46039f\"],[0.2222222222222222,\"#7201a8\"],[0.3333333333333333,\"#9c179e\"],[0.4444444444444444,\"#bd3786\"],[0.5555555555555556,\"#d8576b\"],[0.6666666666666666,\"#ed7953\"],[0.7777777777777778,\"#fb9f3a\"],[0.8888888888888888,\"#fdca26\"],[1.0,\"#f0f921\"]]}],\"surface\":[{\"type\":\"surface\",\"colorbar\":{\"outlinewidth\":0,\"ticks\":\"\"},\"colorscale\":[[0.0,\"#0d0887\"],[0.1111111111111111,\"#46039f\"],[0.2222222222222222,\"#7201a8\"],[0.3333333333333333,\"#9c179e\"],[0.4444444444444444,\"#bd3786\"],[0.5555555555555556,\"#d8576b\"],[0.6666666666666666,\"#ed7953\"],[0.7777777777777778,\"#fb9f3a\"],[0.8888888888888888,\"#fdca26\"],[1.0,\"#f0f921\"]]}],\"mesh3d\":[{\"type\":\"mesh3d\",\"colorbar\":{\"outlinewidth\":0,\"ticks\":\"\"}}],\"scatter\":[{\"fillpattern\":{\"fillmode\":\"overlay\",\"size\":10,\"solidity\":0.2},\"type\":\"scatter\"}],\"parcoords\":[{\"type\":\"parcoords\",\"line\":{\"colorbar\":{\"outlinewidth\":0,\"ticks\":\"\"}}}],\"scatterpolargl\":[{\"type\":\"scatterpolargl\",\"marker\":{\"colorbar\":{\"outlinewidth\":0,\"ticks\":\"\"}}}],\"bar\":[{\"error_x\":{\"color\":\"#2a3f5f\"},\"error_y\":{\"color\":\"#2a3f5f\"},\"marker\":{\"line\":{\"color\":\"#E5ECF6\",\"width\":0.5},\"pattern\":{\"fillmode\":\"overlay\",\"size\":10,\"solidity\":0.2}},\"type\":\"bar\"}],\"scattergeo\":[{\"type\":\"scattergeo\",\"marker\":{\"colorbar\":{\"outlinewidth\":0,\"ticks\":\"\"}}}],\"scatterpolar\":[{\"type\":\"scatterpolar\",\"marker\":{\"colorbar\":{\"outlinewidth\":0,\"ticks\":\"\"}}}],\"histogram\":[{\"marker\":{\"pattern\":{\"fillmode\":\"overlay\",\"size\":10,\"solidity\":0.2}},\"type\":\"histogram\"}],\"scattergl\":[{\"type\":\"scattergl\",\"marker\":{\"colorbar\":{\"outlinewidth\":0,\"ticks\":\"\"}}}],\"scatter3d\":[{\"type\":\"scatter3d\",\"line\":{\"colorbar\":{\"outlinewidth\":0,\"ticks\":\"\"}},\"marker\":{\"colorbar\":{\"outlinewidth\":0,\"ticks\":\"\"}}}],\"scattermapbox\":[{\"type\":\"scattermapbox\",\"marker\":{\"colorbar\":{\"outlinewidth\":0,\"ticks\":\"\"}}}],\"scatterternary\":[{\"type\":\"scatterternary\",\"marker\":{\"colorbar\":{\"outlinewidth\":0,\"ticks\":\"\"}}}],\"scattercarpet\":[{\"type\":\"scattercarpet\",\"marker\":{\"colorbar\":{\"outlinewidth\":0,\"ticks\":\"\"}}}],\"carpet\":[{\"aaxis\":{\"endlinecolor\":\"#2a3f5f\",\"gridcolor\":\"white\",\"linecolor\":\"white\",\"minorgridcolor\":\"white\",\"startlinecolor\":\"#2a3f5f\"},\"baxis\":{\"endlinecolor\":\"#2a3f5f\",\"gridcolor\":\"white\",\"linecolor\":\"white\",\"minorgridcolor\":\"white\",\"startlinecolor\":\"#2a3f5f\"},\"type\":\"carpet\"}],\"table\":[{\"cells\":{\"fill\":{\"color\":\"#EBF0F8\"},\"line\":{\"color\":\"white\"}},\"header\":{\"fill\":{\"color\":\"#C8D4E3\"},\"line\":{\"color\":\"white\"}},\"type\":\"table\"}],\"barpolar\":[{\"marker\":{\"line\":{\"color\":\"#E5ECF6\",\"width\":0.5},\"pattern\":{\"fillmode\":\"overlay\",\"size\":10,\"solidity\":0.2}},\"type\":\"barpolar\"}],\"pie\":[{\"automargin\":true,\"type\":\"pie\"}]},\"layout\":{\"autotypenumbers\":\"strict\",\"colorway\":[\"#636efa\",\"#EF553B\",\"#00cc96\",\"#ab63fa\",\"#FFA15A\",\"#19d3f3\",\"#FF6692\",\"#B6E880\",\"#FF97FF\",\"#FECB52\"],\"font\":{\"color\":\"#2a3f5f\"},\"hovermode\":\"closest\",\"hoverlabel\":{\"align\":\"left\"},\"paper_bgcolor\":\"white\",\"plot_bgcolor\":\"#E5ECF6\",\"polar\":{\"bgcolor\":\"#E5ECF6\",\"angularaxis\":{\"gridcolor\":\"white\",\"linecolor\":\"white\",\"ticks\":\"\"},\"radialaxis\":{\"gridcolor\":\"white\",\"linecolor\":\"white\",\"ticks\":\"\"}},\"ternary\":{\"bgcolor\":\"#E5ECF6\",\"aaxis\":{\"gridcolor\":\"white\",\"linecolor\":\"white\",\"ticks\":\"\"},\"baxis\":{\"gridcolor\":\"white\",\"linecolor\":\"white\",\"ticks\":\"\"},\"caxis\":{\"gridcolor\":\"white\",\"linecolor\":\"white\",\"ticks\":\"\"}},\"coloraxis\":{\"colorbar\":{\"outlinewidth\":0,\"ticks\":\"\"}},\"colorscale\":{\"sequential\":[[0.0,\"#0d0887\"],[0.1111111111111111,\"#46039f\"],[0.2222222222222222,\"#7201a8\"],[0.3333333333333333,\"#9c179e\"],[0.4444444444444444,\"#bd3786\"],[0.5555555555555556,\"#d8576b\"],[0.6666666666666666,\"#ed7953\"],[0.7777777777777778,\"#fb9f3a\"],[0.8888888888888888,\"#fdca26\"],[1.0,\"#f0f921\"]],\"sequentialminus\":[[0.0,\"#0d0887\"],[0.1111111111111111,\"#46039f\"],[0.2222222222222222,\"#7201a8\"],[0.3333333333333333,\"#9c179e\"],[0.4444444444444444,\"#bd3786\"],[0.5555555555555556,\"#d8576b\"],[0.6666666666666666,\"#ed7953\"],[0.7777777777777778,\"#fb9f3a\"],[0.8888888888888888,\"#fdca26\"],[1.0,\"#f0f921\"]],\"diverging\":[[0,\"#8e0152\"],[0.1,\"#c51b7d\"],[0.2,\"#de77ae\"],[0.3,\"#f1b6da\"],[0.4,\"#fde0ef\"],[0.5,\"#f7f7f7\"],[0.6,\"#e6f5d0\"],[0.7,\"#b8e186\"],[0.8,\"#7fbc41\"],[0.9,\"#4d9221\"],[1,\"#276419\"]]},\"xaxis\":{\"gridcolor\":\"white\",\"linecolor\":\"white\",\"ticks\":\"\",\"title\":{\"standoff\":15},\"zerolinecolor\":\"white\",\"automargin\":true,\"zerolinewidth\":2},\"yaxis\":{\"gridcolor\":\"white\",\"linecolor\":\"white\",\"ticks\":\"\",\"title\":{\"standoff\":15},\"zerolinecolor\":\"white\",\"automargin\":true,\"zerolinewidth\":2},\"scene\":{\"xaxis\":{\"backgroundcolor\":\"#E5ECF6\",\"gridcolor\":\"white\",\"linecolor\":\"white\",\"showbackground\":true,\"ticks\":\"\",\"zerolinecolor\":\"white\",\"gridwidth\":2},\"yaxis\":{\"backgroundcolor\":\"#E5ECF6\",\"gridcolor\":\"white\",\"linecolor\":\"white\",\"showbackground\":true,\"ticks\":\"\",\"zerolinecolor\":\"white\",\"gridwidth\":2},\"zaxis\":{\"backgroundcolor\":\"#E5ECF6\",\"gridcolor\":\"white\",\"linecolor\":\"white\",\"showbackground\":true,\"ticks\":\"\",\"zerolinecolor\":\"white\",\"gridwidth\":2}},\"shapedefaults\":{\"line\":{\"color\":\"#2a3f5f\"}},\"annotationdefaults\":{\"arrowcolor\":\"#2a3f5f\",\"arrowhead\":0,\"arrowwidth\":1},\"geo\":{\"bgcolor\":\"white\",\"landcolor\":\"#E5ECF6\",\"subunitcolor\":\"white\",\"showland\":true,\"showlakes\":true,\"lakecolor\":\"white\"},\"title\":{\"x\":0.05},\"mapbox\":{\"style\":\"light\"}}},\"xaxis\":{\"anchor\":\"y\",\"domain\":[0.0,1.0],\"title\":{\"text\":\"iteration\"}},\"yaxis\":{\"anchor\":\"x\",\"domain\":[0.0,1.0],\"title\":{\"text\":\"fitness\"}},\"legend\":{\"tracegroupgap\":0},\"margin\":{\"t\":60}},                        {\"responsive\": true}                    ).then(function(){\n",
              "                            \n",
              "var gd = document.getElementById('a3db5679-c709-4e34-ba21-594ad346c7a6');\n",
              "var x = new MutationObserver(function (mutations, observer) {{\n",
              "        var display = window.getComputedStyle(gd).display;\n",
              "        if (!display || display === 'none') {{\n",
              "            console.log([gd, 'removed!']);\n",
              "            Plotly.purge(gd);\n",
              "            observer.disconnect();\n",
              "        }}\n",
              "}});\n",
              "\n",
              "// Listen for the removal of the full notebook cells\n",
              "var notebookContainer = gd.closest('#notebook-container');\n",
              "if (notebookContainer) {{\n",
              "    x.observe(notebookContainer, {childList: true});\n",
              "}}\n",
              "\n",
              "// Listen for the clearing of the current output cell\n",
              "var outputEl = gd.closest('.output');\n",
              "if (outputEl) {{\n",
              "    x.observe(outputEl, {childList: true});\n",
              "}}\n",
              "\n",
              "                        })                };                            </script>        </div>\n",
              "</body>\n",
              "</html>"
            ]
          },
          "metadata": {}
        }
      ]
    },
    {
      "cell_type": "code",
      "metadata": {
        "colab": {
          "base_uri": "https://localhost:8080/"
        },
        "id": "vMJOPFiERr-w",
        "outputId": "f6a1b615-a6ff-426c-edb9-ac3cc627527d"
      },
      "source": [
        "print(weights)\n",
        "print(prices)"
      ],
      "execution_count": 39,
      "outputs": [
        {
          "output_type": "stream",
          "name": "stdout",
          "text": [
            "[ 8.50388657  5.11699041 11.01340204  2.89486906  0.63876059  2.09786666\n",
            " 14.05995484 11.14493898  2.73392793  6.54798042]\n",
            "[82.52261303 39.90232109 74.52468273 60.38869201 53.06488063 85.19511514\n",
            "  3.28992347 65.69334575 98.81439364 53.95886742]\n"
          ]
        }
      ]
    },
    {
      "cell_type": "code",
      "metadata": {
        "colab": {
          "base_uri": "https://localhost:8080/"
        },
        "id": "TXjQhPI7Rwth",
        "outputId": "6eaf9b90-11f1-4653-92e7-d1b051ed8e54"
      },
      "source": [
        "print(fitnessFunct([1, 0, 0, 0, 1, 0, 0, 0, 1, 1]))\n",
        "print(fitnessFunct(bestInd))\n"
      ],
      "execution_count": 40,
      "outputs": [
        {
          "output_type": "stream",
          "name": "stdout",
          "text": [
            "0.1\n",
            "337.3654025040448\n"
          ]
        }
      ]
    },
    {
      "cell_type": "markdown",
      "metadata": {
        "id": "RC6vmFsKUyZu"
      },
      "source": [
        "## Clase agrupando todo los métodos anteriores, para generalizar para problemas con individuos binarios."
      ]
    },
    {
      "cell_type": "code",
      "metadata": {
        "id": "pAOUbpV8U7fv"
      },
      "source": [
        "class Genetic_Algorithm ():\n",
        "  def __init__(self, sizeIndividual, sizePopulation=100, generations=400, mutation_probability=0.1, crossover_probability=0.9):\n",
        "    self.sizeIndividual= sizeIndividual\n",
        "    self.sizePopulation = sizePopulation\n",
        "    self.generations = generations\n",
        "    self.mutation_probability=mutation_probability\n",
        "    self.crossover_probability=crossover_probability\n",
        "\n",
        "  def fitnessFunct(self,x):\n",
        "    #return sum(x*prices)\n",
        "    pass\n",
        "\n",
        "  def valid(self, x):\n",
        "   #return 0<sum(x*weights)<=W\n",
        "   return True\n",
        "\n",
        "  def generateInd(self):\n",
        "    return np.random.randint(0, 2, sizeIndividual)\n",
        "\n",
        "  def generateFirstPopulation(self):\n",
        "    population=[]\n",
        "    count=0;\n",
        "    while True:\n",
        "      ind =self.generateInd()\n",
        "      if (self.valid(ind)):\n",
        "        population.append(ind)\n",
        "        count=count+1\n",
        "      if count==sizePopulation:\n",
        "        return population\n",
        "\n",
        "  def roulette(self,population):\n",
        "    of=[self.fitnessFunct(s) for s in population]\n",
        "    probability=of/sum(of)\n",
        "    accumulatedProb=np.cumsum(probability)\n",
        "    return accumulatedProb\n",
        "\n",
        "  def selection(self, population, accumulatedProb):\n",
        "    nr=np.random.uniform()\n",
        "    for i,p in enumerate(accumulatedProb):\n",
        "      if nr<p:\n",
        "        return population[i]\n",
        "\n",
        "  def crossover(self,ind1, ind2):\n",
        "    cp=np.random.randint(1,len(ind1)-1)\n",
        "    ## Create new children\n",
        "    child1=np.concatenate((ind1[0:cp+1],ind2[cp+1:len(ind2)]))\n",
        "    child2=np.concatenate((ind2[0:cp+1],ind1[cp+1:len(ind1)]))\n",
        "    return child1,child2\n",
        "\n",
        "  def mutate(self,ind):\n",
        "    cp=np.random.randint(0,len(ind)-1)\n",
        "    child=np.copy(ind)\n",
        "    child[cp]=not child[cp]\n",
        "    return child\n",
        "\n",
        "  def geneticAlgorithm(self):\n",
        "    population=self.generateFirstPopulation()\n",
        "    accumulatedProb=self.roulette(population)\n",
        "    self.bestIndividual=[population[0]] # Lista de mejores individuos de cada población\n",
        "    for i in range(self.generations):\n",
        "      #Generar la nueva población\n",
        "      nextPopulation=[]\n",
        "      count=0\n",
        "      while True: # para crear la población cuando tengamos NP individuos\n",
        "        # Hacemos selección de dos individuos y cruce si es posible\n",
        "        ind1=self.selection(population, accumulatedProb)\n",
        "        ind2=self.selection(population, accumulatedProb)\n",
        "        crossProb=nr=np.random.uniform()\n",
        "        if crossProb<self.crossover_probability:\n",
        "          child1,child2=self.crossover(ind1,ind2)\n",
        "          if self.valid(child1):\n",
        "            nextPopulation.append(child1)\n",
        "          if self.valid(child2):\n",
        "            nextPopulation.append(child2)\n",
        "        else:\n",
        "          nextPopulation.append(ind1)\n",
        "          nextPopulation.append(ind2)\n",
        "        # Hacemos selección de un individuo y mutación si es posible\n",
        "        mutProb=nr=np.random.uniform()\n",
        "        ind=self.selection(population, accumulatedProb)\n",
        "        if mutProb<self.mutation_probability:\n",
        "          child=self.mutate(ind)\n",
        "          if self.valid(child):\n",
        "            nextPopulation.append(child)\n",
        "        else:\n",
        "          nextPopulation.append(ind)\n",
        "        if len(nextPopulation)>=sizePopulation:\n",
        "          nextPopulation=nextPopulation[0:sizePopulation]\n",
        "          break;\n",
        "\n",
        "      accumulatedProb=self.roulette(nextPopulation)\n",
        "      sorted_population=sorted(nextPopulation,key=self.fitnessFunct,reverse=True)\n",
        "      self.bestIndividual.append(sorted_population[0])\n",
        "      population=nextPopulation\n",
        "    sortedBest=sorted(self.bestIndividual,key=self.fitnessFunct,reverse=True)\n",
        "    return sortedBest[0],self.fitnessFunct(sortedBest[0])\n"
      ],
      "execution_count": 41,
      "outputs": []
    },
    {
      "cell_type": "code",
      "metadata": {
        "id": "9Uz1VhVRY9bv"
      },
      "source": [
        "class GA_KnacksackProblem(Genetic_Algorithm):\n",
        "  def __init__(self, weights, prices, sizeKnacksack, sizeIndividual, sizePopulation, generations, mutation_probability, crossover_probability):\n",
        "    super(GA_KnacksackProblem, self).__init__(sizeIndividual, sizePopulation, generations, mutation_probability, crossover_probability)\n",
        "    self.weights=weights\n",
        "    self.prices=prices\n",
        "    self.sizeKnacksack=sizeKnacksack\n",
        "\n",
        "  def fitnessFunct(self,x):\n",
        "    return sum(x*self.prices)\n",
        "\n",
        "  def valid(self,x):\n",
        "    return 0<sum(x*self.weights)<=self.sizeKnacksack"
      ],
      "execution_count": 42,
      "outputs": []
    },
    {
      "cell_type": "code",
      "metadata": {
        "id": "lyiVcCjlZ52z"
      },
      "source": [
        "KP=GA_KnacksackProblem(weights, prices, W, sizeIndividual, sizePopulation, generations, mutation_probability, crossover_probability)"
      ],
      "execution_count": 43,
      "outputs": []
    },
    {
      "cell_type": "code",
      "metadata": {
        "colab": {
          "base_uri": "https://localhost:8080/"
        },
        "id": "PJFwrMzAb4S4",
        "outputId": "3ee56091-b2db-40e9-f3af-18969d84712f"
      },
      "source": [
        "solution, f=KP.geneticAlgorithm()\n",
        "print(solution, f)"
      ],
      "execution_count": 44,
      "outputs": [
        {
          "output_type": "stream",
          "name": "stdout",
          "text": [
            "[0 0 0 1 1 1 0 0 1 1] 351.4219488295739\n"
          ]
        }
      ]
    },
    {
      "cell_type": "code",
      "metadata": {
        "colab": {
          "base_uri": "https://localhost:8080/",
          "height": 542
        },
        "id": "UkgJwDxs-aFD",
        "outputId": "0bad62b0-9236-4ae6-e1b5-7de469da4384"
      },
      "source": [
        "iteration=np.arange(0,len(KP.bestIndividual))\n",
        "fitnessValue=[KP.fitnessFunct(x) for x in KP.bestIndividual]\n",
        "df = pd.DataFrame(list(zip(iteration,fitnessValue)),\n",
        "               columns =['iteration', 'fitness'])\n",
        "fig = px.line(df, x=\"iteration\", y=\"fitness\")\n",
        "fig.show()"
      ],
      "execution_count": 45,
      "outputs": [
        {
          "output_type": "display_data",
          "data": {
            "text/html": [
              "<html>\n",
              "<head><meta charset=\"utf-8\" /></head>\n",
              "<body>\n",
              "    <div>            <script src=\"https://cdnjs.cloudflare.com/ajax/libs/mathjax/2.7.5/MathJax.js?config=TeX-AMS-MML_SVG\"></script><script type=\"text/javascript\">if (window.MathJax && window.MathJax.Hub && window.MathJax.Hub.Config) {window.MathJax.Hub.Config({SVG: {font: \"STIX-Web\"}});}</script>                <script type=\"text/javascript\">window.PlotlyConfig = {MathJaxConfig: 'local'};</script>\n",
              "        <script charset=\"utf-8\" src=\"https://cdn.plot.ly/plotly-2.35.2.min.js\"></script>                <div id=\"1e3974ab-2987-48f0-a790-41196f2bb548\" class=\"plotly-graph-div\" style=\"height:525px; width:100%;\"></div>            <script type=\"text/javascript\">                                    window.PLOTLYENV=window.PLOTLYENV || {};                                    if (document.getElementById(\"1e3974ab-2987-48f0-a790-41196f2bb548\")) {                    Plotly.newPlot(                        \"1e3974ab-2987-48f0-a790-41196f2bb548\",                        [{\"hovertemplate\":\"iteration=%{x}\\u003cbr\\u003efitness=%{y}\\u003cextra\\u003e\\u003c\\u002fextra\\u003e\",\"legendgroup\":\"\",\"line\":{\"color\":\"#636efa\",\"dash\":\"solid\"},\"marker\":{\"symbol\":\"circle\"},\"mode\":\"lines\",\"name\":\"\",\"orientation\":\"v\",\"showlegend\":false,\"x\":[0,1,2,3,4,5,6,7,8,9,10,11,12,13,14,15,16,17,18,19,20,21,22,23,24,25,26,27,28,29,30,31,32,33,34,35,36,37,38,39,40,41,42,43,44,45,46,47,48,49,50,51,52,53,54,55,56,57,58,59,60,61,62,63,64,65,66,67,68,69,70,71,72,73,74,75,76,77,78,79,80,81,82,83,84,85,86,87,88,89,90,91,92,93,94,95,96,97,98,99,100,101,102,103,104,105,106,107,108,109,110,111,112,113,114,115,116,117,118,119,120,121,122,123,124,125,126,127,128,129,130,131,132,133,134,135,136,137,138,139,140,141,142,143,144,145,146,147,148,149,150,151,152,153,154,155,156,157,158,159,160,161,162,163,164,165,166,167,168,169,170,171,172,173,174,175,176,177,178,179,180,181,182,183,184,185,186,187,188,189,190,191,192,193,194,195,196,197,198,199,200,201,202,203,204,205,206,207,208,209,210,211,212,213,214,215,216,217,218,219,220,221,222,223,224,225,226,227,228,229,230,231,232,233,234,235,236,237,238,239,240,241,242,243,244,245,246,247,248,249,250,251,252,253,254,255,256,257,258,259,260,261,262,263,264,265,266,267,268,269,270,271,272,273,274,275,276,277,278,279,280,281,282,283,284,285,286,287,288,289,290,291,292,293,294,295,296,297,298,299,300],\"xaxis\":\"x\",\"y\":[114.3475594246534,284.3005218769269,319.5970024367525,298.357068202456,351.4219488295739,351.4219488295739,351.4219488295739,337.3654025040448,337.3654025040448,337.3654025040448,337.3654025040448,337.3654025040448,351.4219488295739,351.4219488295739,351.4219488295739,337.3654025040448,337.3654025040448,337.3654025040448,337.3654025040448,337.3654025040448,337.3654025040448,337.3654025040448,337.3654025040448,337.3654025040448,337.3654025040448,337.3654025040448,337.3654025040448,337.3654025040448,337.3654025040448,337.3654025040448,337.3654025040448,337.3654025040448,337.3654025040448,337.3654025040448,337.3654025040448,337.3654025040448,337.3654025040448,337.3654025040448,337.3654025040448,337.3654025040448,337.3654025040448,337.3654025040448,337.3654025040448,337.3654025040448,337.3654025040448,337.3654025040448,337.3654025040448,337.3654025040448,337.3654025040448,337.3654025040448,337.3654025040448,337.3654025040448,337.3654025040448,337.3654025040448,337.3654025040448,337.3654025040448,337.3654025040448,337.3654025040448,337.3654025040448,337.3654025040448,337.3654025040448,337.3654025040448,337.3654025040448,337.3654025040448,337.3654025040448,337.3654025040448,337.3654025040448,337.3654025040448,337.3654025040448,337.3654025040448,337.3654025040448,337.3654025040448,337.3654025040448,337.3654025040448,337.3654025040448,337.3654025040448,337.3654025040448,337.3654025040448,337.3654025040448,337.3654025040448,337.3654025040448,337.3654025040448,337.3654025040448,337.3654025040448,337.3654025040448,337.3654025040448,337.3654025040448,337.3654025040448,337.3654025040448,337.3654025040448,337.3654025040448,337.3654025040448,337.3654025040448,337.3654025040448,337.3654025040448,337.3654025040448,337.3654025040448,337.3654025040448,337.3654025040448,337.3654025040448,337.3654025040448,337.3654025040448,337.3654025040448,337.3654025040448,337.3654025040448,337.3654025040448,337.3654025040448,337.3654025040448,337.3654025040448,337.3654025040448,337.3654025040448,337.3654025040448,337.3654025040448,337.3654025040448,337.3654025040448,337.3654025040448,337.3654025040448,337.3654025040448,337.3654025040448,337.3654025040448,337.3654025040448,337.3654025040448,337.3654025040448,337.3654025040448,337.3654025040448,337.3654025040448,337.3654025040448,337.3654025040448,337.3654025040448,337.3654025040448,337.3654025040448,337.3654025040448,337.3654025040448,337.3654025040448,337.3654025040448,337.3654025040448,337.3654025040448,337.3654025040448,337.3654025040448,337.3654025040448,337.3654025040448,337.3654025040448,337.3654025040448,337.3654025040448,337.3654025040448,337.3654025040448,337.3654025040448,337.3654025040448,337.3654025040448,337.3654025040448,337.3654025040448,337.3654025040448,337.3654025040448,337.3654025040448,337.3654025040448,337.3654025040448,337.3654025040448,337.3654025040448,337.3654025040448,337.3654025040448,337.3654025040448,337.3654025040448,337.3654025040448,337.3654025040448,337.3654025040448,337.3654025040448,337.3654025040448,337.3654025040448,337.3654025040448,337.3654025040448,337.3654025040448,337.3654025040448,337.3654025040448,337.3654025040448,337.3654025040448,337.3654025040448,337.3654025040448,337.3654025040448,337.3654025040448,337.3654025040448,337.3654025040448,337.3654025040448,337.3654025040448,337.3654025040448,337.3654025040448,337.3654025040448,337.3654025040448,337.3654025040448,337.3654025040448,337.3654025040448,337.3654025040448,337.3654025040448,337.3654025040448,337.3654025040448,337.3654025040448,337.3654025040448,337.3654025040448,337.3654025040448,337.3654025040448,337.3654025040448,337.3654025040448,337.3654025040448,337.3654025040448,337.3654025040448,337.3654025040448,337.3654025040448,337.3654025040448,337.3654025040448,337.3654025040448,337.3654025040448,337.3654025040448,337.3654025040448,337.3654025040448,337.3654025040448,337.3654025040448,337.3654025040448,337.3654025040448,337.3654025040448,337.3654025040448,337.3654025040448,337.3654025040448,337.3654025040448,337.3654025040448,337.3654025040448,337.3654025040448,337.3654025040448,337.3654025040448,337.3654025040448,337.3654025040448,337.3654025040448,337.3654025040448,337.3654025040448,337.3654025040448,337.3654025040448,337.3654025040448,337.3654025040448,337.3654025040448,337.3654025040448,337.3654025040448,337.3654025040448,337.3654025040448,337.3654025040448,337.3654025040448,337.3654025040448,337.3654025040448,337.3654025040448,337.3654025040448,337.3654025040448,337.3654025040448,337.3654025040448,337.3654025040448,337.3654025040448,337.3654025040448,337.3654025040448,337.3654025040448,337.3654025040448,337.3654025040448,337.3654025040448,337.3654025040448,337.3654025040448,337.3654025040448,337.3654025040448,337.3654025040448,337.3654025040448,337.3654025040448,337.3654025040448,337.3654025040448,337.3654025040448,337.3654025040448,337.3654025040448,337.3654025040448,337.3654025040448,337.3654025040448,337.3654025040448,337.3654025040448,337.3654025040448,337.3654025040448,337.3654025040448,337.3654025040448,337.3654025040448,337.3654025040448,337.3654025040448,337.3654025040448,337.3654025040448,337.3654025040448,337.3654025040448,337.3654025040448,337.3654025040448,337.3654025040448,337.3654025040448,337.3654025040448,337.3654025040448,337.3654025040448,337.3654025040448,337.3654025040448,337.3654025040448,337.3654025040448,337.3654025040448,337.3654025040448,337.3654025040448,337.3654025040448],\"yaxis\":\"y\",\"type\":\"scatter\"}],                        {\"template\":{\"data\":{\"histogram2dcontour\":[{\"type\":\"histogram2dcontour\",\"colorbar\":{\"outlinewidth\":0,\"ticks\":\"\"},\"colorscale\":[[0.0,\"#0d0887\"],[0.1111111111111111,\"#46039f\"],[0.2222222222222222,\"#7201a8\"],[0.3333333333333333,\"#9c179e\"],[0.4444444444444444,\"#bd3786\"],[0.5555555555555556,\"#d8576b\"],[0.6666666666666666,\"#ed7953\"],[0.7777777777777778,\"#fb9f3a\"],[0.8888888888888888,\"#fdca26\"],[1.0,\"#f0f921\"]]}],\"choropleth\":[{\"type\":\"choropleth\",\"colorbar\":{\"outlinewidth\":0,\"ticks\":\"\"}}],\"histogram2d\":[{\"type\":\"histogram2d\",\"colorbar\":{\"outlinewidth\":0,\"ticks\":\"\"},\"colorscale\":[[0.0,\"#0d0887\"],[0.1111111111111111,\"#46039f\"],[0.2222222222222222,\"#7201a8\"],[0.3333333333333333,\"#9c179e\"],[0.4444444444444444,\"#bd3786\"],[0.5555555555555556,\"#d8576b\"],[0.6666666666666666,\"#ed7953\"],[0.7777777777777778,\"#fb9f3a\"],[0.8888888888888888,\"#fdca26\"],[1.0,\"#f0f921\"]]}],\"heatmap\":[{\"type\":\"heatmap\",\"colorbar\":{\"outlinewidth\":0,\"ticks\":\"\"},\"colorscale\":[[0.0,\"#0d0887\"],[0.1111111111111111,\"#46039f\"],[0.2222222222222222,\"#7201a8\"],[0.3333333333333333,\"#9c179e\"],[0.4444444444444444,\"#bd3786\"],[0.5555555555555556,\"#d8576b\"],[0.6666666666666666,\"#ed7953\"],[0.7777777777777778,\"#fb9f3a\"],[0.8888888888888888,\"#fdca26\"],[1.0,\"#f0f921\"]]}],\"heatmapgl\":[{\"type\":\"heatmapgl\",\"colorbar\":{\"outlinewidth\":0,\"ticks\":\"\"},\"colorscale\":[[0.0,\"#0d0887\"],[0.1111111111111111,\"#46039f\"],[0.2222222222222222,\"#7201a8\"],[0.3333333333333333,\"#9c179e\"],[0.4444444444444444,\"#bd3786\"],[0.5555555555555556,\"#d8576b\"],[0.6666666666666666,\"#ed7953\"],[0.7777777777777778,\"#fb9f3a\"],[0.8888888888888888,\"#fdca26\"],[1.0,\"#f0f921\"]]}],\"contourcarpet\":[{\"type\":\"contourcarpet\",\"colorbar\":{\"outlinewidth\":0,\"ticks\":\"\"}}],\"contour\":[{\"type\":\"contour\",\"colorbar\":{\"outlinewidth\":0,\"ticks\":\"\"},\"colorscale\":[[0.0,\"#0d0887\"],[0.1111111111111111,\"#46039f\"],[0.2222222222222222,\"#7201a8\"],[0.3333333333333333,\"#9c179e\"],[0.4444444444444444,\"#bd3786\"],[0.5555555555555556,\"#d8576b\"],[0.6666666666666666,\"#ed7953\"],[0.7777777777777778,\"#fb9f3a\"],[0.8888888888888888,\"#fdca26\"],[1.0,\"#f0f921\"]]}],\"surface\":[{\"type\":\"surface\",\"colorbar\":{\"outlinewidth\":0,\"ticks\":\"\"},\"colorscale\":[[0.0,\"#0d0887\"],[0.1111111111111111,\"#46039f\"],[0.2222222222222222,\"#7201a8\"],[0.3333333333333333,\"#9c179e\"],[0.4444444444444444,\"#bd3786\"],[0.5555555555555556,\"#d8576b\"],[0.6666666666666666,\"#ed7953\"],[0.7777777777777778,\"#fb9f3a\"],[0.8888888888888888,\"#fdca26\"],[1.0,\"#f0f921\"]]}],\"mesh3d\":[{\"type\":\"mesh3d\",\"colorbar\":{\"outlinewidth\":0,\"ticks\":\"\"}}],\"scatter\":[{\"fillpattern\":{\"fillmode\":\"overlay\",\"size\":10,\"solidity\":0.2},\"type\":\"scatter\"}],\"parcoords\":[{\"type\":\"parcoords\",\"line\":{\"colorbar\":{\"outlinewidth\":0,\"ticks\":\"\"}}}],\"scatterpolargl\":[{\"type\":\"scatterpolargl\",\"marker\":{\"colorbar\":{\"outlinewidth\":0,\"ticks\":\"\"}}}],\"bar\":[{\"error_x\":{\"color\":\"#2a3f5f\"},\"error_y\":{\"color\":\"#2a3f5f\"},\"marker\":{\"line\":{\"color\":\"#E5ECF6\",\"width\":0.5},\"pattern\":{\"fillmode\":\"overlay\",\"size\":10,\"solidity\":0.2}},\"type\":\"bar\"}],\"scattergeo\":[{\"type\":\"scattergeo\",\"marker\":{\"colorbar\":{\"outlinewidth\":0,\"ticks\":\"\"}}}],\"scatterpolar\":[{\"type\":\"scatterpolar\",\"marker\":{\"colorbar\":{\"outlinewidth\":0,\"ticks\":\"\"}}}],\"histogram\":[{\"marker\":{\"pattern\":{\"fillmode\":\"overlay\",\"size\":10,\"solidity\":0.2}},\"type\":\"histogram\"}],\"scattergl\":[{\"type\":\"scattergl\",\"marker\":{\"colorbar\":{\"outlinewidth\":0,\"ticks\":\"\"}}}],\"scatter3d\":[{\"type\":\"scatter3d\",\"line\":{\"colorbar\":{\"outlinewidth\":0,\"ticks\":\"\"}},\"marker\":{\"colorbar\":{\"outlinewidth\":0,\"ticks\":\"\"}}}],\"scattermapbox\":[{\"type\":\"scattermapbox\",\"marker\":{\"colorbar\":{\"outlinewidth\":0,\"ticks\":\"\"}}}],\"scatterternary\":[{\"type\":\"scatterternary\",\"marker\":{\"colorbar\":{\"outlinewidth\":0,\"ticks\":\"\"}}}],\"scattercarpet\":[{\"type\":\"scattercarpet\",\"marker\":{\"colorbar\":{\"outlinewidth\":0,\"ticks\":\"\"}}}],\"carpet\":[{\"aaxis\":{\"endlinecolor\":\"#2a3f5f\",\"gridcolor\":\"white\",\"linecolor\":\"white\",\"minorgridcolor\":\"white\",\"startlinecolor\":\"#2a3f5f\"},\"baxis\":{\"endlinecolor\":\"#2a3f5f\",\"gridcolor\":\"white\",\"linecolor\":\"white\",\"minorgridcolor\":\"white\",\"startlinecolor\":\"#2a3f5f\"},\"type\":\"carpet\"}],\"table\":[{\"cells\":{\"fill\":{\"color\":\"#EBF0F8\"},\"line\":{\"color\":\"white\"}},\"header\":{\"fill\":{\"color\":\"#C8D4E3\"},\"line\":{\"color\":\"white\"}},\"type\":\"table\"}],\"barpolar\":[{\"marker\":{\"line\":{\"color\":\"#E5ECF6\",\"width\":0.5},\"pattern\":{\"fillmode\":\"overlay\",\"size\":10,\"solidity\":0.2}},\"type\":\"barpolar\"}],\"pie\":[{\"automargin\":true,\"type\":\"pie\"}]},\"layout\":{\"autotypenumbers\":\"strict\",\"colorway\":[\"#636efa\",\"#EF553B\",\"#00cc96\",\"#ab63fa\",\"#FFA15A\",\"#19d3f3\",\"#FF6692\",\"#B6E880\",\"#FF97FF\",\"#FECB52\"],\"font\":{\"color\":\"#2a3f5f\"},\"hovermode\":\"closest\",\"hoverlabel\":{\"align\":\"left\"},\"paper_bgcolor\":\"white\",\"plot_bgcolor\":\"#E5ECF6\",\"polar\":{\"bgcolor\":\"#E5ECF6\",\"angularaxis\":{\"gridcolor\":\"white\",\"linecolor\":\"white\",\"ticks\":\"\"},\"radialaxis\":{\"gridcolor\":\"white\",\"linecolor\":\"white\",\"ticks\":\"\"}},\"ternary\":{\"bgcolor\":\"#E5ECF6\",\"aaxis\":{\"gridcolor\":\"white\",\"linecolor\":\"white\",\"ticks\":\"\"},\"baxis\":{\"gridcolor\":\"white\",\"linecolor\":\"white\",\"ticks\":\"\"},\"caxis\":{\"gridcolor\":\"white\",\"linecolor\":\"white\",\"ticks\":\"\"}},\"coloraxis\":{\"colorbar\":{\"outlinewidth\":0,\"ticks\":\"\"}},\"colorscale\":{\"sequential\":[[0.0,\"#0d0887\"],[0.1111111111111111,\"#46039f\"],[0.2222222222222222,\"#7201a8\"],[0.3333333333333333,\"#9c179e\"],[0.4444444444444444,\"#bd3786\"],[0.5555555555555556,\"#d8576b\"],[0.6666666666666666,\"#ed7953\"],[0.7777777777777778,\"#fb9f3a\"],[0.8888888888888888,\"#fdca26\"],[1.0,\"#f0f921\"]],\"sequentialminus\":[[0.0,\"#0d0887\"],[0.1111111111111111,\"#46039f\"],[0.2222222222222222,\"#7201a8\"],[0.3333333333333333,\"#9c179e\"],[0.4444444444444444,\"#bd3786\"],[0.5555555555555556,\"#d8576b\"],[0.6666666666666666,\"#ed7953\"],[0.7777777777777778,\"#fb9f3a\"],[0.8888888888888888,\"#fdca26\"],[1.0,\"#f0f921\"]],\"diverging\":[[0,\"#8e0152\"],[0.1,\"#c51b7d\"],[0.2,\"#de77ae\"],[0.3,\"#f1b6da\"],[0.4,\"#fde0ef\"],[0.5,\"#f7f7f7\"],[0.6,\"#e6f5d0\"],[0.7,\"#b8e186\"],[0.8,\"#7fbc41\"],[0.9,\"#4d9221\"],[1,\"#276419\"]]},\"xaxis\":{\"gridcolor\":\"white\",\"linecolor\":\"white\",\"ticks\":\"\",\"title\":{\"standoff\":15},\"zerolinecolor\":\"white\",\"automargin\":true,\"zerolinewidth\":2},\"yaxis\":{\"gridcolor\":\"white\",\"linecolor\":\"white\",\"ticks\":\"\",\"title\":{\"standoff\":15},\"zerolinecolor\":\"white\",\"automargin\":true,\"zerolinewidth\":2},\"scene\":{\"xaxis\":{\"backgroundcolor\":\"#E5ECF6\",\"gridcolor\":\"white\",\"linecolor\":\"white\",\"showbackground\":true,\"ticks\":\"\",\"zerolinecolor\":\"white\",\"gridwidth\":2},\"yaxis\":{\"backgroundcolor\":\"#E5ECF6\",\"gridcolor\":\"white\",\"linecolor\":\"white\",\"showbackground\":true,\"ticks\":\"\",\"zerolinecolor\":\"white\",\"gridwidth\":2},\"zaxis\":{\"backgroundcolor\":\"#E5ECF6\",\"gridcolor\":\"white\",\"linecolor\":\"white\",\"showbackground\":true,\"ticks\":\"\",\"zerolinecolor\":\"white\",\"gridwidth\":2}},\"shapedefaults\":{\"line\":{\"color\":\"#2a3f5f\"}},\"annotationdefaults\":{\"arrowcolor\":\"#2a3f5f\",\"arrowhead\":0,\"arrowwidth\":1},\"geo\":{\"bgcolor\":\"white\",\"landcolor\":\"#E5ECF6\",\"subunitcolor\":\"white\",\"showland\":true,\"showlakes\":true,\"lakecolor\":\"white\"},\"title\":{\"x\":0.05},\"mapbox\":{\"style\":\"light\"}}},\"xaxis\":{\"anchor\":\"y\",\"domain\":[0.0,1.0],\"title\":{\"text\":\"iteration\"}},\"yaxis\":{\"anchor\":\"x\",\"domain\":[0.0,1.0],\"title\":{\"text\":\"fitness\"}},\"legend\":{\"tracegroupgap\":0},\"margin\":{\"t\":60}},                        {\"responsive\": true}                    ).then(function(){\n",
              "                            \n",
              "var gd = document.getElementById('1e3974ab-2987-48f0-a790-41196f2bb548');\n",
              "var x = new MutationObserver(function (mutations, observer) {{\n",
              "        var display = window.getComputedStyle(gd).display;\n",
              "        if (!display || display === 'none') {{\n",
              "            console.log([gd, 'removed!']);\n",
              "            Plotly.purge(gd);\n",
              "            observer.disconnect();\n",
              "        }}\n",
              "}});\n",
              "\n",
              "// Listen for the removal of the full notebook cells\n",
              "var notebookContainer = gd.closest('#notebook-container');\n",
              "if (notebookContainer) {{\n",
              "    x.observe(notebookContainer, {childList: true});\n",
              "}}\n",
              "\n",
              "// Listen for the clearing of the current output cell\n",
              "var outputEl = gd.closest('.output');\n",
              "if (outputEl) {{\n",
              "    x.observe(outputEl, {childList: true});\n",
              "}}\n",
              "\n",
              "                        })                };                            </script>        </div>\n",
              "</body>\n",
              "</html>"
            ]
          },
          "metadata": {}
        }
      ]
    },
    {
      "cell_type": "markdown",
      "metadata": {
        "id": "p2rtmgnNunvO"
      },
      "source": [
        "Ejecutar el método con los parámetros seleccionados\n"
      ]
    },
    {
      "cell_type": "code",
      "metadata": {
        "colab": {
          "base_uri": "https://localhost:8080/",
          "height": 285
        },
        "id": "OAm7cUAHuzwv",
        "outputId": "cb3db4b1-1896-486a-beef-9b8d77fac4a8"
      },
      "source": [
        "sizeKnacksack = 15 #@param {type:\"integer\"}\n",
        "sizeIndividual = 10 #@param {type:\"integer\"}\n",
        "minprice = 1 #@param {type:\"number\"}\n",
        "maxprice = 100 #@param {type:\"number\"}\n",
        "\n",
        "sizePopulation = 30 #@param {type:\"integer\"}\n",
        "generations = 300 #@param {type:\"integer\"}\n",
        "mutation_probability = 0.2 #@param {type:\"number\"}\n",
        "crossover_probability = 0.9 #@param {type:\"number\"}\n",
        "\n",
        "W=sizeKnacksack\n",
        "N=sizeIndividual\n",
        "weights = W*np.random.random_sample((N,))\n",
        "prices = (maxprice-minprice)*np.random.random_sample((N,))+minprice\n",
        "\n",
        "\n",
        "from IPython.display import Markdown, display\n",
        "title='Suponiendo un problema donde tenemos una mochila con una capacidad de '+ str(sizeKnacksack) + 'Kg'\n",
        "display(Markdown('**{}**'.format(title)))\n",
        "display(Markdown(\"**Los siguientes productos:**\"))\n",
        "print(['p'+str(i) for i in range(N)])\n",
        "display(Markdown(\"**Con los siguientes pesos respectivos:**\"))\n",
        "print(weights)\n",
        "display(Markdown(\"**Y los siguientes precios:**\"))\n",
        "print(prices)\n",
        "KP=GA_KnacksackProblem(weights, prices, sizeKnacksack, sizeIndividual, sizePopulation, generations, mutation_probability, crossover_probability)\n",
        "solution, f=KP.geneticAlgorithm()\n",
        "resp='Para una mejor de ganancia de: ' +'{:.2f}'.format(f)\n",
        "display(Markdown('**{}**'.format(resp)))\n",
        "display(Markdown(\"**La mejor combinación es llevar los productos:**\"))\n",
        "print(['p'+str(i) for i,s in enumerate(solution) if s])\n",
        "#display(Markdown((solution, f)"
      ],
      "execution_count": 62,
      "outputs": [
        {
          "output_type": "display_data",
          "data": {
            "text/plain": [
              "<IPython.core.display.Markdown object>"
            ],
            "text/markdown": "**Suponiendo un problema donde tenemos una mochila con una capacidad de 15Kg**"
          },
          "metadata": {}
        },
        {
          "output_type": "display_data",
          "data": {
            "text/plain": [
              "<IPython.core.display.Markdown object>"
            ],
            "text/markdown": "**Los siguientes productos:**"
          },
          "metadata": {}
        },
        {
          "output_type": "stream",
          "name": "stdout",
          "text": [
            "['p0', 'p1', 'p2', 'p3', 'p4', 'p5', 'p6', 'p7', 'p8', 'p9']\n"
          ]
        },
        {
          "output_type": "display_data",
          "data": {
            "text/plain": [
              "<IPython.core.display.Markdown object>"
            ],
            "text/markdown": "**Con los siguientes pesos respectivos:**"
          },
          "metadata": {}
        },
        {
          "output_type": "stream",
          "name": "stdout",
          "text": [
            "[12.91169766 14.15851575  6.12254594 14.8879896   0.1133017   3.13300046\n",
            "  8.2870112   3.01664454  2.18755565  7.18241913]\n"
          ]
        },
        {
          "output_type": "display_data",
          "data": {
            "text/plain": [
              "<IPython.core.display.Markdown object>"
            ],
            "text/markdown": "**Y los siguientes precios:**"
          },
          "metadata": {}
        },
        {
          "output_type": "stream",
          "name": "stdout",
          "text": [
            "[44.88170456 59.16034868  1.42686699 92.12371873 58.85701676 95.33645706\n",
            " 51.63689215 72.99926777 45.99900797 77.14753134]\n"
          ]
        },
        {
          "output_type": "display_data",
          "data": {
            "text/plain": [
              "<IPython.core.display.Markdown object>"
            ],
            "text/markdown": "**Para una mejor de ganancia de: 304.34**"
          },
          "metadata": {}
        },
        {
          "output_type": "display_data",
          "data": {
            "text/plain": [
              "<IPython.core.display.Markdown object>"
            ],
            "text/markdown": "**La mejor combinación es llevar los productos:**"
          },
          "metadata": {}
        },
        {
          "output_type": "stream",
          "name": "stdout",
          "text": [
            "['p4', 'p5', 'p7', 'p9']\n"
          ]
        }
      ]
    }
  ]
}